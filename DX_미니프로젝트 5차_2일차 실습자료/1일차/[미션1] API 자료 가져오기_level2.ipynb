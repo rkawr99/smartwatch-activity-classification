{
 "cells": [
  {
   "cell_type": "markdown",
   "metadata": {},
   "source": [
    "# AIVLE스쿨 4기 DX트랙 5차 미니프로젝트 \n",
    "## [미션#1] API를 이용하여 공공 데이터 가져오기"
   ]
  },
  {
   "cell_type": "markdown",
   "metadata": {},
   "source": [
    " \n",
    " - <font size =+1> 공공데이터포털(https://data.go.kr)에서 제공되는 [국립중앙의료원 - 전국응급의료기관 조회 서비스]에서 필요한 자료를 API를 통해 가져옵니다.\n",
    " - <font size =+1> 회원 가입 후 해당 자료에 [활용 신청]을 한 뒤, 마이페이지에서 일반 인증키(encoding)을 확인합니다. (PDF 교재 참고)\n",
    " - <font size =+1> 대구광역시 중심으로 데이터 추출 \n",
    " "
   ]
  },
  {
   "cell_type": "markdown",
   "metadata": {},
   "source": [
    " * 사전 확인 사항 \n",
    "   * haversine 설치\n",
    "   * python : 3.11.3 (아나콘다 2023.07 버전 설치 기준)"
   ]
  },
  {
   "cell_type": "code",
   "execution_count": null,
   "metadata": {},
   "outputs": [],
   "source": [
    "# 필요한 라이브러리 불러오기\n",
    "\n",
    "import pandas as pd\n",
    "import numpy as np\n",
    "from urllib.parse import quote"
   ]
  },
  {
   "cell_type": "code",
   "execution_count": null,
   "metadata": {},
   "outputs": [],
   "source": [
    "# 코드 수정 없이 실행\n",
    "\n",
    "import ssl\n",
    "from urllib.request import urlopen\n",
    "context=ssl.create_default_context()\n",
    "context.set_ciphers(\"DEFAULT\")\n"
   ]
  },
  {
   "cell_type": "markdown",
   "metadata": {},
   "source": [
    "* 공공데이터 수집을 위한 기본값 설정"
   ]
  },
  {
   "cell_type": "code",
   "execution_count": null,
   "metadata": {},
   "outputs": [],
   "source": [
    "# 개인 인증키 저장\n",
    "# [국립중앙의료원 - 전국응급의료기관 조회 서비스] 활용을 위한 개인 일반 인증키(Encoding) 값 저장\n",
    "key = \"\"\n",
    "\n",
    "# 조회할 도시 지정\n",
    "# city = 대구광역시, 인코딩 필요\n",
    "city = "
   ]
  },
  {
   "cell_type": "markdown",
   "metadata": {},
   "source": [
    "### 1) 대구광역시 응급의료기관 목록정보 조회하기"
   ]
  },
  {
   "cell_type": "markdown",
   "metadata": {},
   "source": [
    " * 주소 (대구광역시)를 기준으로 응급 의료 기관 목록 정보 조회\n",
    " * 기관ID, 주소, 기관명, 응급실전화, 병원 위치(경도/위도) 정보를 확인"
   ]
  },
  {
   "cell_type": "code",
   "execution_count": null,
   "metadata": {},
   "outputs": [],
   "source": [
    "# 대구광역시내이 응급의료기관 목록정보 조회하기\n",
    "# url : https://apis.data.go.kr/B552657/ErmctInfoInqireService/getEgytListInfoInqire\n",
    "# 인증키 지정 : serviceKey = key  ## 갱\n",
    "# 도시 지정 : Q0 = city\n",
    "# 출력 행수 : numOfRows = 100 \n",
    "# page 번호 : pageNo = 1\n",
    "\n"
   ]
  },
  {
   "cell_type": "code",
   "execution_count": null,
   "metadata": {},
   "outputs": [],
   "source": [
    "# 응급의료기관 수 확인하기 : shape \n",
    "\n"
   ]
  },
  {
   "cell_type": "code",
   "execution_count": null,
   "metadata": {},
   "outputs": [],
   "source": [
    "## 응급의료기관 목록정보 중 기관코드(hpid), 응급기관명(dutyName), 주소(dutyAddr), 응급실연락처(dutyTel3), 위도(wgs84Lat), 경도(wgs84Lon) 정보만 추출\n",
    "## ermList 중 [hpid, dutyName, dutyAddr, dutyTel3, wgs84Lat, wgs84Lon] 컬럼 활용\n",
    "## solution_df 에 저장하기\n",
    "\n"
   ]
  },
  {
   "cell_type": "markdown",
   "metadata": {},
   "source": [
    "### 2) 응급의료기관별 기본정보 조회 - 응급실수, 수술실 수 확인"
   ]
  },
  {
   "cell_type": "markdown",
   "metadata": {},
   "source": [
    " * <b>기관ID</b>를 기준으로 응급실, 수술실 정보 등 응급의료기관 기본 정보 조회 가능\n",
    " * 응급실수 (hperyn)와 수술실 수(hpopyn) 정보를 확인"
   ]
  },
  {
   "cell_type": "code",
   "execution_count": null,
   "metadata": {},
   "outputs": [],
   "source": [
    "# 대구광역시내이 응급의료기관 목록정보 조회하기\n",
    "# url : https://apis.data.go.kr/B552657/ErmctInfoInqireService/getEgytBassInfoInqire\n",
    "# 인증키 지정 : serviceKey = key\n",
    "# 응급의료기관 지정 : HPID = hpid\n",
    "# 응급의료기관 하나씩 조회해야 함\n",
    "\n",
    "# 응급의료기관에 대한 hpid값을 list로 추출\n",
    "\n",
    "\n",
    "# 각 응급의료기관의 응급실 병상수(hperyn), 수술실 수(hpopyn) 를 저장하기 위한 빈 리스트 생성\n",
    "\n",
    "\n",
    "# 대구광역시의 응급의료기관을 hpid 기준으로 하나씩 조회하여, 응급실 병상수/수술실 수를 확인\n",
    "# for문을 이용하여 hpid 하나씩 조회하고, hperyn, hpopyn 정보를 각 hperynList, hpopynList 리스트에 저장\n",
    "\n",
    "for hpid in hpidList:\n",
    "    \n",
    "       \n",
    "    "
   ]
  },
  {
   "cell_type": "code",
   "execution_count": null,
   "metadata": {},
   "outputs": [],
   "source": [
    "# 기존 solution_df에 응급실수, 수술실 수 정보 추가하기\n",
    "# 응급실 수 : solution_df['hperyn']\n",
    "# 수술실 수 : solution_df['hpopyn']\n",
    "\n",
    "\n",
    "\n",
    "# 확인하기\n"
   ]
  },
  {
   "cell_type": "code",
   "execution_count": null,
   "metadata": {},
   "outputs": [],
   "source": [
    "## hperyn, hpopyn값이 0 이하인 병원 삭제\n"
   ]
  },
  {
   "cell_type": "code",
   "execution_count": null,
   "metadata": {},
   "outputs": [],
   "source": [
    "## solution_df 크기 확인 : shape\n",
    "\n"
   ]
  },
  {
   "cell_type": "code",
   "execution_count": null,
   "metadata": {},
   "outputs": [],
   "source": [
    "## solution_df 를 파일로 저장 \n",
    "## 파일명 : daegu_hospital_list.csv, index = False\n",
    "\n"
   ]
  },
  {
   "cell_type": "code",
   "execution_count": null,
   "metadata": {},
   "outputs": [],
   "source": [
    "## 정상적으로 저장되었는지 확인 \n",
    "\n"
   ]
  },
  {
   "cell_type": "markdown",
   "metadata": {},
   "source": [
    "### 3) 응급의료기관별 실시간 가용 병상 조회"
   ]
  },
  {
   "cell_type": "markdown",
   "metadata": {},
   "source": [
    " * 주소(대구광역시)를 기준으로 응급실 실시간 가용병상정보 등을 조회\n",
    " * 실시간 응급실(hvec), 수술실(hvoc) 가용 수량 정보 확인"
   ]
  },
  {
   "cell_type": "code",
   "execution_count": null,
   "metadata": {},
   "outputs": [],
   "source": [
    "# 응급실 실시간 가용병상 조회\n",
    "# url : https://apis.data.go.kr/B552657/ErmctInfoInqireService/getEmrrmRltmUsefulSckbdInfoInqire\n",
    "# 인증키 지정 : serviceKey = key\n",
    "# 도시 지정 : STAGE1=city\n",
    "# 출력 행수 : numofRows=100 \n",
    "# page 번호 : pageNo = 1\n",
    "# emrRealtime_big 변수명으로 저장\n",
    "\n",
    "\n"
   ]
  },
  {
   "cell_type": "code",
   "execution_count": null,
   "metadata": {},
   "outputs": [],
   "source": [
    "## 응급실 실시간 가용병상 정보에서 기관코드(hpid), 응급실 병상수('hvec'), 수술실 수('hvoc') 정보만 추출하여 emRealtime_small 변수에 저장\n",
    "## emrRealtime_big 중 [hpid, hvec, hvoc] 컬럼 활용\n",
    "\n"
   ]
  },
  {
   "cell_type": "code",
   "execution_count": null,
   "metadata": {},
   "outputs": [],
   "source": [
    "# solution_df와 emrRealtime_small 데이터프레임을 결합하여 solution_df에 저장\n",
    "# 결합 : merge 함수 활용\n",
    "\n"
   ]
  },
  {
   "cell_type": "code",
   "execution_count": null,
   "metadata": {},
   "outputs": [],
   "source": [
    "solution_df.shape"
   ]
  },
  {
   "cell_type": "markdown",
   "metadata": {},
   "source": [
    "### 4) 응급의료기관별 중증질환자 수용 가능 여부 조회"
   ]
  },
  {
   "cell_type": "markdown",
   "metadata": {},
   "source": [
    " * 주소(대구광역시)를 기준으로 중증질환자 수용 가능 여부를 조회 (실시간 정보)"
   ]
  },
  {
   "cell_type": "code",
   "execution_count": null,
   "metadata": {},
   "outputs": [],
   "source": [
    "# 실시간 중증질환자 수용 가능 병원 조회\n",
    "# url : https://apis.data.go.kr/B552657/ErmctInfoInqireService/getSrsillDissAceptncPosblInfoInqire\n",
    "# 인증키 지정 : serviceKey = key\n",
    "# 도시 지정 : STAGE1=city\n",
    "# 출력 행수 : numOfRows=100 \n",
    "# page 번호 : pageNo = 1\n",
    "\n",
    "  \n",
    "\n",
    "## 다른 API함수와 다르게 기관코드 컬럼명이 다름 (hpid --> dutyName)\n",
    "## 기관코드 컬렴명을 'hpid'로 일치화시키기 위해, 컬럼명을 변경함\n",
    "\n",
    " "
   ]
  },
  {
   "cell_type": "code",
   "execution_count": null,
   "metadata": {},
   "outputs": [],
   "source": [
    "## 실시간 중증질환자 수용 가능 병원정보에서 필요한 정보만 추출하여 emrAcpt_small 변수에 저장\n",
    "## emrAcpt 중 [hpid, MKioskTy1, MKioskTy2, MKioskTy3, MKioskTy4, MKioskTy5, MKioskTy7,MKioskTy8, MKioskTy10, MKioskTy11] 컬럼 확인\n",
    "# 'MKioskTy1' : '뇌출혈수술', \n",
    "# 'MKioskTy2' : '뇌경색의재관류',\n",
    "# 'MKioskTy3' : '심근경색의재관류',\n",
    "# 'MKioskTy4' : '복부손상의수술',\n",
    "# 'MKioskTy5' : '사지접합의수술',\n",
    "# 'MKioskTy7' : '응급투석',\n",
    "# 'MKioskTy8' : '조산산모',\n",
    "# 'MKioskTy10' : '신생아',\n",
    "# 'MKioskTy11' : '중증화상'\n",
    "\n",
    " "
   ]
  },
  {
   "cell_type": "code",
   "execution_count": null,
   "metadata": {},
   "outputs": [],
   "source": [
    "# solution_df와 emrAcpt_small 데이터프레임을 결합하여 solution_df에 저장\n",
    "# 결합 : merge 함수 활용\n",
    "\n",
    " "
   ]
  },
  {
   "cell_type": "markdown",
   "metadata": {},
   "source": [
    "### 5) 자료 정비하기"
   ]
  },
  {
   "cell_type": "markdown",
   "metadata": {},
   "source": [
    " * 컬럼명 한글로 변경하기\n",
    " * 데이터 중 '정보 미제공', '불가능'은 'N'로 변경\n",
    " * 응급실/수술실 수가 0 이하의 수치가 나오는 비정상 사례 존재 --> 0이하의 수치는 모두 0으로 대체하여 정비\n",
    " * 응급실 가용율 (응급실 가용 수량 / 응급실수)을 계산\n",
    " * 응급실 포화도는 응급실 가용율에 따라 [불가/혼잡/보통/원활] 4단계로 구분"
   ]
  },
  {
   "cell_type": "code",
   "execution_count": null,
   "metadata": {},
   "outputs": [],
   "source": [
    "## solution_df의 컬럼명 확인\n",
    "\n",
    " "
   ]
  },
  {
   "cell_type": "code",
   "execution_count": null,
   "metadata": {},
   "outputs": [],
   "source": [
    "# column명을 한글로 교체하기 위해 딕셔너리로 정의\n",
    "\n",
    "column_change = {  'hpid' : '병원코드',\n",
    "                   'dutyName' : '병원명',\n",
    "                   'dutyAddr' : '주소',\n",
    "                   'dutyTel3' : '응급연락처',\n",
    "                   'wgs84Lat' : '위도', \n",
    "                   'wgs84Lon' : '경도',\n",
    "                   'hperyn' : '응급실수',\n",
    "                   'hpopyn' : '수술실수',\n",
    "                   'hvec' : '가용응급실수',\n",
    "                   'hvoc' : '가용수술실수',\n",
    "                   'MKioskTy1' : '뇌출혈', \n",
    "                   'MKioskTy2' : '뇌경색',\n",
    "                   'MKioskTy3' : '심근경색',\n",
    "                   'MKioskTy4' : '복부손상',\n",
    "                   'MKioskTy5' : '사지접합',\n",
    "                   'MKioskTy7' : '응급투석',\n",
    "                   'MKioskTy8' : '조산산모',\n",
    "                   'MKioskTy10' : '신생아',\n",
    "                   'MKioskTy11' : '중증화상',\n",
    "                   \n",
    "                   }"
   ]
  },
  {
   "cell_type": "code",
   "execution_count": null,
   "metadata": {},
   "outputs": [],
   "source": [
    "# solution_df의 column명 변경하기 : rename\n",
    "\n"
   ]
  },
  {
   "cell_type": "code",
   "execution_count": null,
   "metadata": {},
   "outputs": [],
   "source": [
    "# 중증질환 수용 가능 여부 데이터 중 정보 미제공, 불가능은 N로 변경 : replace\n",
    "\n",
    " "
   ]
  },
  {
   "cell_type": "code",
   "execution_count": null,
   "metadata": {},
   "outputs": [],
   "source": [
    "## 응급실수/가용응급실수, 수술실수/가용수술실 수가 0보다 작은 경우는 비정상 데이터로 추정\n",
    "## 0보다 작은 수는 0으로 변경\n",
    "# loc 활용\n",
    "\n",
    " \n"
   ]
  },
  {
   "cell_type": "code",
   "execution_count": null,
   "metadata": {},
   "outputs": [],
   "source": [
    "# 응급실 가용율을 구하여 새로운 컬럼으로 추가하기\n",
    "# 컬렴명 : '응급실가용율'\n",
    "# 산식 : 가용 응급실수 / 응급실 수\n",
    "# 소수 둘째 자리까지 구하기 round() 활용\n",
    "\n",
    " \n",
    "\n",
    "# 응급실 가용율이 1이 넘는 경우는 1로 대체\n",
    "# loc 활용\n",
    "\n"
   ]
  },
  {
   "cell_type": "code",
   "execution_count": null,
   "metadata": {},
   "outputs": [],
   "source": [
    "# 응급실 가용율에 따라 포화도 분류\n",
    "# 응급실 가용율 구분 단계 : ~0.1, 0.1 ~ 0.3, 0.3 ~ 0.6, 0.6 ~ \n",
    "# 포화도 명칭 : ['불가', '혼잡', '보통', '원활']\n",
    "# pd.cut() 활용\n",
    "\n"
   ]
  },
  {
   "cell_type": "markdown",
   "metadata": {},
   "source": [
    "### 6) 상황에 따른 병원 데이터 출력하기"
   ]
  },
  {
   "cell_type": "markdown",
   "metadata": {},
   "source": [
    " * 상황1) 응급실 수용이 가능한 병원\n",
    " * 상황2) 중증질환자 수용이 가능하고 응급실 수용이 가능한 병원"
   ]
  },
  {
   "cell_type": "code",
   "execution_count": null,
   "metadata": {},
   "outputs": [],
   "source": [
    "# 상황1) 응급실 수용이 가능한 병원\n",
    "# 조건1 : 응급실 포화도가 불가가 아닌 병원을 출력\n",
    "\n"
   ]
  },
  {
   "cell_type": "code",
   "execution_count": null,
   "metadata": {},
   "outputs": [],
   "source": [
    "# 상황2) 중증질환자 수용이 가능하고, 응급실 수용이 가능한 병원\n",
    "# 조건1 : '뇌출혈' 중증질환자 수용 및 수술실 수용 가능한(가용 수술실수가 1이상) 응급의료기관 조회\n",
    "# 조건2 : 응급실 포화도가 불가가 아닌 병원을 출력\n",
    "\n",
    "special_m = '뇌출혈'\n"
   ]
  },
  {
   "cell_type": "markdown",
   "metadata": {},
   "source": [
    "### 7) 병원 거리 구하기"
   ]
  },
  {
   "cell_type": "markdown",
   "metadata": {},
   "source": [
    " * 병원 위치(위도/경도)와 환자의 위치(임의의 위도/경도) 간의 거리 측정\n",
    " * haversine 라이브러리를 활용 (https://pypi.org/project/haversine/)\n",
    " * 병원 ~ 환자간의 거리를 ['2km이내', '5km이내', '10km이내', '10km이상'] 4단계로 구분"
   ]
  },
  {
   "cell_type": "code",
   "execution_count": null,
   "metadata": {},
   "outputs": [],
   "source": [
    "# 환자와 병원간의 거리 측정을 위한 라이브러리 설치\n",
    "# !pip install haversine"
   ]
  },
  {
   "cell_type": "code",
   "execution_count": null,
   "metadata": {},
   "outputs": [],
   "source": [
    "# 라이브러리 import\n",
    "\n",
    "\n",
    "# 거리 측정 예시\n",
    "# 위치1 : (35.209710, 129.004751)\n",
    "# 위치2 : (35.1631139, 129.1635509)\n",
    "\n"
   ]
  },
  {
   "cell_type": "code",
   "execution_count": null,
   "metadata": {},
   "outputs": [],
   "source": [
    "# 환자 위치 : 서문시장 내\n",
    "patient= (35.8690760, 128.5811616)  #Latitude, Longitude\n",
    "\n",
    "# 환자와 병원간 거리를 저장할 빈 리스트 만들기 \n",
    "# 변수명 : distance\n",
    "\n",
    "\n",
    "\n",
    "# solution_df의 복사본을 만들어 distance_df에 저장하기\n",
    "\n",
    "\n",
    "for idx, row in distance_df.iterrows():\n",
    "    # haversine 함수를 이용하여 환자와 병원간 거리 구하기 \n",
    "    # 단위 : km\n",
    "    # 소수 둘째자리까지 구하기\n",
    "    # distance 변수에 하나씩 채우기\n",
    "    \n",
    "\n",
    "#distance_df의 '거리' 컬럼에, distance 값 저장하기\n",
    "\n",
    "\n",
    "#확인하기\n"
   ]
  },
  {
   "cell_type": "code",
   "execution_count": null,
   "metadata": {},
   "outputs": [],
   "source": [
    "# distancd_df의 '거리'에 따라 거리구분 분류 : cut()\n",
    "# '거리구분' 명칭 : ['2km이내', '5km이내', '10km이내', '10km이상']\n",
    "\n",
    "\n"
   ]
  },
  {
   "cell_type": "code",
   "execution_count": null,
   "metadata": {},
   "outputs": [],
   "source": [
    "# 가까운 거리순으로 : '거리구분\n",
    "# 응급실이 원활한 순서로 : '응급실포화도'\n",
    "# 정렬하기 : sort_values\n",
    "\n"
   ]
  },
  {
   "cell_type": "markdown",
   "metadata": {},
   "source": [
    "### 8) 중증 질환자를 수용 가능한 응급의료기관을 가까운 거리순으로 출력"
   ]
  },
  {
   "cell_type": "code",
   "execution_count": null,
   "metadata": {},
   "outputs": [],
   "source": [
    "# 중증질환자 수용이 가능하고, 응급실 수용이 가능한 병원 중 환자 위치에서 가까운 병원\n",
    "# 조건1 : '중증화상' 중증질환자 수용 및 수술실 수용 가능한 응급으료기관 조회\n",
    "# 조건2 :응급실 포화도가 불가가 아닌 병원\n",
    "# 정렬 : 환자 위치를 중심으로 가장 가까운 병원부터 출력\n",
    "\n",
    "# 환자 위치 : 서문시장 내\n",
    "patient= (35.8690760, 128.5811616)  #Latitude, Longitude\n",
    "\n",
    "# 조건1 : '중증화상' 중증질환자 수용 및 수술실 수용 가능한 응급으료기관 조회\n",
    "special_m = '중증화상'\n",
    "\n",
    "\n",
    "# 조건2 :응급실 포화도가 불가가 아닌 병원\n",
    "\n",
    "\n",
    "# 조건1, 2에 해당되는 응급의료기관 정보를 distance_df에 저장하기\n",
    "\n",
    "\n",
    "\n",
    "\n",
    "# 환자와 병원간 거리를 저장할 빈 리스트 만들기 \n",
    "# 변수명 : distance\n",
    "\n",
    "\n",
    "\n",
    "for idx, row in distance_df.iterrows():\n",
    "    # haversine 함수를 이용하여 환자와 병원간 거리 구하기 \n",
    "    # 단위 : km\n",
    "    # 소수 둘째자리까지 구하기\n",
    "    # distance 변수에 하나씩 채우기\n",
    "    \n",
    "\n",
    "#distance_df의 '거리' 컬럼에, distance 값 저장하기\n",
    "\n",
    "\n",
    "# distancd_df의 '거리'에 따라 거리구분 분류 : cut()\n",
    "# '거리구분' 명칭 : ['2km이내', '5km이내', '10km이내', '10km이상']\n",
    "\n",
    "\n",
    "\n",
    "# 환자 위치에서 가까운 거리순으로, 응급실 포화도가 원활한 순서로 정렬하기\n",
    "\n"
   ]
  },
  {
   "cell_type": "markdown",
   "metadata": {},
   "source": [
    "### 9) 특정 중증질환 및 환자 위치에 따른 병원 실시간 정보 및 거리를 구하는 함수 작성하기"
   ]
  },
  {
   "cell_type": "markdown",
   "metadata": {},
   "source": [
    " * 작성 방법\n",
    "    * 1) 함수선언하기\n",
    "    * 2) 병원 리스트 csv 파일 불러오기\n",
    "    * 3) 병원 실시간 정보 가져오기\n",
    "    * 4) 병원 응급실 가용율, 포화도 계산하기\n",
    "    * 5) 환자 수용 가능한 병원 구하기 \n",
    "    * 6) 환자와 병원간 거리 구하기\n",
    "    * 7) 거리 구간 구하기\n",
    "    * 8) 결과값 반환하기\n",
    "\n"
   ]
  },
  {
   "cell_type": "code",
   "execution_count": null,
   "metadata": {},
   "outputs": [],
   "source": [
    "## tabulate library가 없는 경우 설치 필요\n",
    "## pandas.to_markdown() 시 tabulate library가 필요함\n",
    "#!pip install tabulate "
   ]
  },
  {
   "cell_type": "code",
   "execution_count": null,
   "metadata": {},
   "outputs": [],
   "source": [
    "import pandas as pd\n",
    "from urllib.parse import quote\n",
    "from haversine import haversine\n",
    "import ssl\n",
    "from urllib.request import urlopen\n",
    "import numpy as np\n",
    "\n",
    "context=ssl.create_default_context()\n",
    "context.set_ciphers(\"DEFAULT\")\n",
    "\n",
    "#########################################\n",
    "# 1) 함수 선언하기                       #\n",
    "#########################################\n",
    "# 함수명 : find_hospital\n",
    "# 매개변수 : special_m (중증질환명), lati, long (환자 위치)\n",
    "\n",
    "def find_hospital(special_m, lati, long):\n",
    "    #  [국립중앙의료원 - 전국응급의료기관 조회 서비스] 활용을 위한 개인 일반 인증키(Encoding) 저장\n",
    "\n",
    "    key = \n",
    "\n",
    "    # city = 대구광역시, 인코딩 필요\n",
    "    city = \n",
    "\n",
    "    ############################################################\n",
    "    # 2) 병원 리스트 csv 파일 불러오기 (daegu_hospital_list.csv) #\n",
    "    ############################################################\n",
    "    solution_df = \n",
    "\n",
    "    ############################################################\n",
    "    # 3) 병원 실시간 정보 가져오기                               #\n",
    "    ############################################################\n",
    "\n",
    "    # 응급실 실시간 가용병상 \n",
    "\n",
    "    \n",
    "    ## 응급실 실시간 가용병상 정보에서 기관코드(hpid), 응급실 병상수('hvec'), 수술실 수('hvoc') 정보만 추출하여 emRealtime_small 변수에 저장\n",
    "    ## emrRealtime_big 중 [hpid, hvec, hvoc] 컬럼 활용\n",
    "\n",
    "    \n",
    "    # solution_df와 emrRealtime_small 데이터프레임을 결합하여 solution_df에 저장\n",
    "\n",
    "    \n",
    "    # 실시간 중증질환자 수용 가능 병원 조회\n",
    "\n",
    "\n",
    "    ## 다른 API함수와 다르게 기관코드 컬럼명이 다름 (hpid --> dutyName)\n",
    "    ## 기관코드 컬렴명을 'hpid'로 일치화시키기 위해, 컬럼명을 변경함\n",
    "\n",
    "    \n",
    "    ## 실시간 중증질환자 수용 가능 병원정보에서 필요한 정보만 추출하여 emrAcpt_small 변수에 저장\n",
    "    ## emrAcpt 중 [hpid, MKioskTy1, MKioskTy2, MKioskTy3, MKioskTy4, MKioskTy5, MKioskTy7,MKioskTy8, MKioskTy10, MKioskTy11] 컬럼 확인\n",
    "\n",
    "\n",
    "    # solution_df와 emrRealtime_small 데이터프레임을 결합하여 solution_df에 저장\n",
    "\n",
    "    ############################################################\n",
    "    # 4) 자료 정비하기                                          #\n",
    "    ############################################################\n",
    "\n",
    "    # solution_df의 컬럼명 변경하기\n",
    "\n",
    "    column_change = {  'hpid' : '병원코드',\n",
    "                    'dutyName' : '병원명',\n",
    "                    'dutyAddr' : '주소',\n",
    "                    'dutyTel3' : '응급연락처',\n",
    "                    'wgs84Lat' : '위도', \n",
    "                    'wgs84Lon' : '경도',\n",
    "                    'hperyn' : '응급실수',\n",
    "                    'hpopyn' : '수술실수',\n",
    "                    'hvec' : '가용응급실수',\n",
    "                    'hvoc' : '가용수술실수',\n",
    "                    'MKioskTy1' : '뇌출혈', \n",
    "                    'MKioskTy2' : '뇌경색',\n",
    "                    'MKioskTy3' : '심근경색',\n",
    "                    'MKioskTy4' : '복부손상',\n",
    "                    'MKioskTy5' : '사지접합',\n",
    "                    'MKioskTy7' : '응급투석',\n",
    "                    'MKioskTy8' : '조산산모',\n",
    "                    'MKioskTy10' : '신생아',\n",
    "                    'MKioskTy11' : '중증화상',                   \n",
    "                    }\n",
    "\n",
    "\n",
    "    # 중증질환 수용 가능 여부 데이터 중 정보 미제공, 불가능은 N로 변경 : replace\n",
    "\n",
    "\n",
    "    ## 응급실수/가용응급실수, 수술실수/가용수술실 수가 0보다 작은 경우는 비정상 데이터로 추정\n",
    "    ## 0보다 작은 수는 0으로 변경\n",
    "\n",
    "\n",
    "    # 응급실 가용율을 구하여 새로운 컬럼으로 추가하기\n",
    "    # 컬렴명 : '응급실가용율'\n",
    "    # 산식 : 가용 응급실수 / 응급실 수\n",
    "    # 소수 둘째 자리까지 구하기 round() 활용\n",
    "\n",
    "    \n",
    "    # 응급실 가용율이 1이 넘는 경우는 1로 대체\n",
    "\n",
    "    \n",
    "\n",
    "    # 응급실 가용율에 따라 포화도 분류\n",
    "    # 응급실 가용율 구분 단계 : ~0.1, 0.1 ~ 0.3, 0.3 ~ 0.6, 0.6 ~ \n",
    "    # 포화도 명칭 : ['불가', '혼잡', '보통', '원활']\n",
    "    # pd.cut() 활용\n",
    "\n",
    "\n",
    "    ############################################################\n",
    "    # 5) 환자 수용 가능한 병원 구하기                            #  \n",
    "    ############################################################\n",
    "\n",
    "    # 매개변수 special_m로 받은 중증질환이 중증질환 리스트에 포함될 경우\n",
    "    # 중증질환 리스트 :  ['뇌출혈', '뇌경색', '심근경색', '복부손상', '사지접합', '응급투석', '조산산모', '신생아','중증화상' ]\n",
    "\n",
    "    if     :\n",
    "        # 조건1 : special_m 중증질환자 수용이 가능하고\n",
    "        # 조건2 : 응급실 포화도가 불가가 아닌 병원\n",
    "        \n",
    "        \n",
    "        # 조건1, 2에 해당되는 응급의료기관 정보를 distance_df에 저장하기\n",
    "        \n",
    "\n",
    "    # 매개변수 special_m 값이 중증질환 리스트에 포함이 안되는 경우\n",
    "    else :\n",
    "        # 조건1 : 응급실 포화도가 불가가 아닌 병원\n",
    "        \n",
    "        \n",
    "        # 조건1에 해당되는 응급의료기관 정보를 distance_df에 저장하기\n",
    "        \n",
    "\n",
    "    ############################################################\n",
    "    # 6) 환자와 병원간 거리 구하기                               # \n",
    "    ############################################################\n",
    "    # 환자와 병원간 거리를 저장할 빈 리스트 만들기 \n",
    "    # 변수명 : distance\n",
    "\n",
    "    \n",
    "\n",
    "    #매개변수 lati, long으로 환자의 위치 정보 받기\n",
    "    # 변수명 : patient\n",
    "    \n",
    "\n",
    "    for idx, row in distance_df.iterrows():\n",
    "        # haversine 함수를 이용하여 환자와 병원간 거리 구하기 \n",
    "        # 단위 : km\n",
    "        # 소수 둘째자리까지 구하기\n",
    "        # distance 변수에 하나씩 채우기\n",
    "        \n",
    "\n",
    "    #distance_df의 '거리' 컬럼에, distance 값 저장하기\n",
    "    \n",
    "\n",
    "    ############################################################\n",
    "    # 7) 거리 구간 구하기                                       #\n",
    "    ############################################################\n",
    "    # distancd_df의 '거리'에 따라 거리구분 분류 : cut()\n",
    "    # '거리구분' 명칭 : ['2km이내', '5km이내', '10km이내', '10km이상']\n",
    "\n",
    "    \n",
    "\n",
    "    \n",
    "    ############################################################\n",
    "    # 8) 결과값 반환하기                                        #\n",
    "    ############################################################\n",
    "\n",
    "    \n"
   ]
  },
  {
   "cell_type": "code",
   "execution_count": null,
   "metadata": {},
   "outputs": [],
   "source": [
    "# 중증환자 수용 가능한, 가까운 병원 조회 #1\n",
    "# 환자 정보 \n",
    "#   - 중증 질환 : 응급투석\n",
    "#   - 환자 위치 : 대구역 근처 (35.8765167, 128.5972922))\n",
    "# 거리순, 응급실 포화도 순으로 결과 출력하기 (pandas의 sort_values(), to_markdown() 활용)\n",
    "\n",
    "print(find_hospital('응급투석', 35.8765167, 128.5972922).sort_values(['거리구분', '응급실포화도','거리'], ascending=[True, False, True]).to_markdown())"
   ]
  },
  {
   "cell_type": "code",
   "execution_count": null,
   "metadata": {},
   "outputs": [],
   "source": [
    "# 중증환자 수용 가능한, 가까운 병원 조회 #2\n",
    "# 환자 정보 \n",
    "#   - 중증 질환 : 심근경색\n",
    "#   - 환자 위치 : 수성못 근처 (35.8259090, 128.616528))\n",
    "# 거리순, 응급실 포화도 순으로 결과 출력하기 (pandas의 sort_values(), to_markdown() 활용)\n",
    "\n",
    "print(find_hospital('심근경색', 35.8765167, 128.5972922).sort_values(['거리구분', '응급실포화도', '거리'], ascending=[True, False, True]).to_markdown())"
   ]
  },
  {
   "cell_type": "markdown",
   "metadata": {},
   "source": [
    "## 미션#1 Clear\n",
    "## 수고하셨습니다!!"
   ]
  }
 ],
 "metadata": {
  "kernelspec": {
   "display_name": "Python 3 (ipykernel)",
   "language": "python",
   "name": "python3"
  },
  "language_info": {
   "codemirror_mode": {
    "name": "ipython",
    "version": 3
   },
   "file_extension": ".py",
   "mimetype": "text/x-python",
   "name": "python",
   "nbconvert_exporter": "python",
   "pygments_lexer": "ipython3",
   "version": "3.11.3"
  },
  "vscode": {
   "interpreter": {
    "hash": "f08154012ddadd8e950e6e9e035c7a7b32c136e7647e9b7c77e02eb723a8bedb"
   }
  }
 },
 "nbformat": 4,
 "nbformat_minor": 4
}
