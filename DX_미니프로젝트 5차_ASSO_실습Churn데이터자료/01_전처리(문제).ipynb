{
 "cells": [
  {
   "cell_type": "markdown",
   "metadata": {
    "id": "471_omVbzt5v"
   },
   "source": [
    "# [개별실습] Python 활용한 AI 모델링 - 전처리\n",
    "+ 이번 실습에서는 Python을 활용한 AI 모델링에서 전처리 파트 문제를 풀어봅니다.\n",
    "+ 머신러닝과 AI 모델링 전체에서 60~70% 차지하는 부분이 바로 전처리 파트입니다.\n",
    "+ 굉장히 시간과 노력이 많이 투입되며, 어려운 부분일 수 있습니다.\n",
    "+ 데이터가 깨끗이 정리되지 않는다면 머신러닝/AI 성능을 장담할수 없으므로 데이터 전처리에 심혈을 기울여 주세요.\n",
    "+ AICE의 출제범위는 라이브러리 설치, 데이터 로딩, 데이터의 구성 및 확인까지 EDA에서부터 전처리가 모두 해당됩니다.\n",
    "+ <font color=red>(Tip) 전처리에서 데이터 결측치 처리, 라벨 인코딩, 원핫 인코딩, xy 데이터분리는 출제되니 반드시 마스터해주세요.\n",
    "+ <span style=\"background-color:#fff6b1\">**[문제]라고 표기된 부분이 실제 점수가 반영되는 시험문제라고 생각하고 더 신경써서 수행해주세요!**"
   ]
  },
  {
   "cell_type": "markdown",
   "metadata": {
    "id": "2tiRXBd_zt50"
   },
   "source": [
    "##  <span style=\"background-color:#fff5b1\">학습목차\n",
    "#### [미션0] 오늘의 목표\n",
    "#### [미션1] 필요 라이브러리 임포트 및 파일 읽어오기\n",
    "#### [미션2] EDA (Exploratory Data Analysis) 탐색적 데이터 분석\n",
    "#### [미션3] 데이터 전처리 수행\n",
    " - 불필요 컬럼 삭제\n",
    " - 컬럼 내용 변경\n",
    " - Null 처리\n",
    " - 컬럼 type 변경\n",
    "#### [미션4] 시각화\n",
    "#### [미션5] 결과 저장하기"
   ]
  },
  {
   "cell_type": "markdown",
   "metadata": {
    "id": "C6XPa1owzt50"
   },
   "source": [
    "## <span style=\"background-color:#fff5b1\"> [미션0] 오늘의 목표"
   ]
  },
  {
   "cell_type": "markdown",
   "metadata": {
    "id": "d0UfUo5xzt51"
   },
   "source": [
    "### **머신러닝, 딥러닝을 사용한 통신 서비스 이탈 예측**\n",
    "##### 고객 데이터를 분석하고 정확한 이탈 예측 모델을 개발하여 고객을 유지하고 이탈률을 줄이기 위한 방안을 생각해봅시다.\n",
    "##### Churn은 서비스를 중단하거나 경쟁업체로 이전한 고객을 의미합니다. 기존 고객을 유지하고 새로운 고객을 유치하는 것이 매우 중요합니다.  \n",
    "##### **오늘 미니프로젝트 목표는 업계에서 경쟁 우위를 유지하기 위해 이탈 예측을 위한 머신러닝, 딥러닝의 가능성을 탐색하고,** \n",
    "##### **우리 조에서 찾아낸 데이터의 특징과 이탈 방지 프로모션을 발표하는 것입니다.** "
   ]
  },
  {
   "cell_type": "markdown",
   "metadata": {
    "id": "fzXI1Ty4zt52"
   },
   "source": [
    "## <span style=\"background-color:#fff5b1\"> [미션1] 필요 라이브러리 임포트 및 파일 읽어오기"
   ]
  },
  {
   "cell_type": "markdown",
   "metadata": {
    "id": "SqhbiL7hzt52"
   },
   "source": [
    "### **Numpy**"
   ]
  },
  {
   "cell_type": "markdown",
   "metadata": {
    "id": "73Ke8PLdzt53"
   },
   "source": [
    "#### <font color=blue> **[문제1] numpy 라이브러리를 np alias로 임포트하세요.** </font>"
   ]
  },
  {
   "cell_type": "code",
   "execution_count": null,
   "metadata": {
    "id": "AwQq6UUFzt54"
   },
   "outputs": [],
   "source": []
  },
  {
   "cell_type": "markdown",
   "metadata": {
    "id": "MFJooTutzt56"
   },
   "source": [
    "### **Pandas**"
   ]
  },
  {
   "cell_type": "markdown",
   "metadata": {
    "id": "drnb3ta-zt56"
   },
   "source": [
    "#### <font color=blue> **[문제2] pandas 라이브러리를 pd alias로 임포트하세요.** </font>"
   ]
  },
  {
   "cell_type": "code",
   "execution_count": null,
   "metadata": {
    "id": "EMZobYP2zt57"
   },
   "outputs": [],
   "source": []
  },
  {
   "cell_type": "markdown",
   "metadata": {
    "id": "BlLqoxDgzt57"
   },
   "source": [
    "####  \n",
    "### <font color=green>읽어올 데이터 파일 : data_v1.csv</font>"
   ]
  },
  {
   "cell_type": "markdown",
   "metadata": {
    "id": "Jt8N_9ybzt58"
   },
   "source": [
    "#### Telco Customer Churn Dataset 컬럼\n",
    "1. CustomerID: Customer ID unique for each customer\n",
    "2. gender: Whether the customer is a male or a female\n",
    "3. SeniorCitizen: Whether the customer is a senior citizen or not (1, 0) : 고령자 여부\n",
    "4. Partner: Whether the customer has a partner or not (Yes, No)\n",
    "5. Dependents: Whether the customer has dependents or not (Yes, No) : 부양가족 여부\n",
    "6. Tenure: Number of months the customer has stayed with the company : 서비스 사용 개월수\n",
    "7. PhoneService: Whether the customer has a phone service or not (Yes, No)\n",
    "8. MultipleLines: Whether the customer has multiple lines or not (Yes, No, No phone service)\n",
    "9. InternetService: Customer’s internet service provider (DSL, Fiber optic, No)\n",
    "10. OnlineSecurity: Whether the customer has online security or not (Yes, No, No internet service)\n",
    "11. OnlineBackup: Whether the customer has an online backup or not (Yes, No, No internet service)\n",
    "12. DeviceProtection: Whether the customer has device protection or not (Yes, No, No internet service)\n",
    "13. TechSupport: Whether the customer has tech support or not (Yes, No, No internet service)\n",
    "14. StreamingTV: Whether the customer has streaming TV or not (Yes, No, No internet service)\n",
    "15. StreamingMovies: Whether the customer has streaming movies or not (Yes, No, No internet service)\n",
    "16. Contract: The contract term of the customer (Month-to-month, One year, Two years)\n",
    "17. PaperlessBilling: Whether the customer has paperless billing or not (Yes, No)\n",
    "18. PaymentMethod: The customer’s payment method (Electronic check, Mailed check, Bank transfer (automatic), Credit card (automatic))\n",
    "19. MonthlyCharges: The amount charged to the customer monthly\n",
    "20. TotalCharges: The total amount charged to the customer\n",
    "21. Churn: Whether the customer churned or not (Yes or No) : 이탈 여부"
   ]
  },
  {
   "cell_type": "markdown",
   "metadata": {
    "id": "lPQqI6x-zt58"
   },
   "source": [
    "### **CSV 파일 데이터 읽어오기**"
   ]
  },
  {
   "cell_type": "markdown",
   "metadata": {
    "id": "7XcVbE7lzt59"
   },
   "source": [
    "#### <font color=blue> **[문제3] data.csv 파일을 Pandas read_csv 함수를 이용하여 읽어 df 변수에 저장하고 확인하세요.** </font>"
   ]
  },
  {
   "cell_type": "code",
   "execution_count": 1,
   "metadata": {
    "id": "JtlO-NTgzt59"
   },
   "outputs": [],
   "source": [
    "# 읽어 들일 파일명 : data_v1.csv\n",
    "# 결과 : df 저장\n",
    "\n"
   ]
  },
  {
   "cell_type": "code",
   "execution_count": 2,
   "metadata": {
    "colab": {
     "base_uri": "https://localhost:8080/",
     "height": 731
    },
    "id": "JQYJhu9Bzt5-",
    "outputId": "440e23b8-fee3-4b31-cb87-df4d9eca749b"
   },
   "outputs": [],
   "source": [
    "# 읽어온 데이터프레임 확인하기\n",
    "\n"
   ]
  },
  {
   "cell_type": "markdown",
   "metadata": {
    "id": "dY2h_-WQzt5-"
   },
   "source": [
    "## <span style=\"background-color:#fff5b1\"> [미션2] EDA (Exploratory Data Analysis) 탐색적 데이터 분석"
   ]
  },
  {
   "cell_type": "markdown",
   "metadata": {
    "id": "AhWFhfq3zt5_"
   },
   "source": [
    "### **데이터 탐색하기**"
   ]
  },
  {
   "cell_type": "code",
   "execution_count": 3,
   "metadata": {
    "colab": {
     "base_uri": "https://localhost:8080/",
     "height": 392
    },
    "id": "_fhnLu_Tzt5_",
    "outputId": "fc708ff9-511c-4169-a3ef-f7860ff77e08"
   },
   "outputs": [],
   "source": [
    "# head 함수 활용\n",
    "\n"
   ]
  },
  {
   "cell_type": "code",
   "execution_count": 4,
   "metadata": {
    "colab": {
     "base_uri": "https://localhost:8080/",
     "height": 392
    },
    "id": "uRcoM31azt5_",
    "outputId": "81460218-e776-4330-fd65-fe0c7f07121b"
   },
   "outputs": [],
   "source": [
    "# tail 함수 활용\n",
    "\n"
   ]
  },
  {
   "cell_type": "markdown",
   "metadata": {
    "id": "VJYiz0u_zt6A"
   },
   "source": [
    "####  \n",
    "### **자료구조 파악**"
   ]
  },
  {
   "cell_type": "code",
   "execution_count": 5,
   "metadata": {
    "colab": {
     "base_uri": "https://localhost:8080/"
    },
    "id": "QkjgjO1Wzt6A",
    "outputId": "6a1da062-1c77-405d-8619-de4f05cc02e5"
   },
   "outputs": [],
   "source": [
    "# info 함수 활용\n",
    "\n"
   ]
  },
  {
   "cell_type": "markdown",
   "metadata": {
    "id": "Stjl-h0ozt6A"
   },
   "source": [
    "### **인덱스, 컬럼명, Values 확인**"
   ]
  },
  {
   "cell_type": "code",
   "execution_count": 6,
   "metadata": {
    "colab": {
     "base_uri": "https://localhost:8080/"
    },
    "id": "F4vmCj_1zt6B",
    "outputId": "68eb3266-3266-41a8-f70c-1e87cb434c0f"
   },
   "outputs": [],
   "source": [
    "# 인덱스 확인\n",
    "\n"
   ]
  },
  {
   "cell_type": "code",
   "execution_count": 7,
   "metadata": {
    "colab": {
     "base_uri": "https://localhost:8080/"
    },
    "id": "8n0g3dtmzt6B",
    "outputId": "86a531f0-2eb4-441a-ec00-423cca040997"
   },
   "outputs": [],
   "source": [
    "# 컬럼명 확인\n",
    "\n"
   ]
  },
  {
   "cell_type": "code",
   "execution_count": 8,
   "metadata": {
    "colab": {
     "base_uri": "https://localhost:8080/"
    },
    "id": "XarNNK4Bzt6B",
    "outputId": "720f1a15-31fb-408c-96db-b08c0fa1a756"
   },
   "outputs": [],
   "source": [
    "# Values 확인\n",
    "\n"
   ]
  },
  {
   "cell_type": "markdown",
   "metadata": {
    "id": "VYtIzNkozt6C"
   },
   "source": [
    "####  \n",
    "### **Null 데이터 확인**"
   ]
  },
  {
   "cell_type": "code",
   "execution_count": 9,
   "metadata": {
    "colab": {
     "base_uri": "https://localhost:8080/"
    },
    "id": "7MXtq6-Qzt6C",
    "outputId": "65b9acd0-9e93-408b-aff5-f50ccc17e493"
   },
   "outputs": [],
   "source": [
    "# isnull 함수 활용\n",
    "\n"
   ]
  },
  {
   "cell_type": "markdown",
   "metadata": {
    "id": "OUMKMO-xzt6C"
   },
   "source": [
    "### **통계 정보 확인**"
   ]
  },
  {
   "cell_type": "code",
   "execution_count": 10,
   "metadata": {
    "colab": {
     "base_uri": "https://localhost:8080/",
     "height": 300
    },
    "id": "Yv73rg6Fzt6C",
    "outputId": "398e837a-dbb6-49c6-886d-016bbde7d802"
   },
   "outputs": [],
   "source": [
    "# describe 함수 활용\n",
    "# 통계 정보를 통해 알 수 있는 컬럼별 특성을 아래 주석으로 작성해보자.\n",
    "\n",
    "\n",
    "# [컬럼별 특성] ▼\n",
    "\n"
   ]
  },
  {
   "cell_type": "markdown",
   "metadata": {
    "id": "GynhTmEpzt6D"
   },
   "source": [
    "## <span style=\"background-color:#fff5b1\"> [미션3] 데이터 전처리 수행"
   ]
  },
  {
   "cell_type": "markdown",
   "metadata": {
    "id": "IqJ28PGuzt6D"
   },
   "source": [
    "####  \n",
    "### **자료구조 파악**"
   ]
  },
  {
   "cell_type": "markdown",
   "metadata": {
    "id": "Xmf37Pq7zt6D"
   },
   "source": [
    "#### <font color=blue> **[문제4] df DataFrame의 함수를 활용해서 자료구조(Row, column , Not-null, type)을 파악 하세요.** </font>"
   ]
  },
  {
   "cell_type": "code",
   "execution_count": 11,
   "metadata": {
    "colab": {
     "base_uri": "https://localhost:8080/"
    },
    "id": "BUl6gWF5zt6D",
    "outputId": "75d7fe58-96fb-45ff-dd26-bdec2a53f8ca"
   },
   "outputs": [],
   "source": [
    "# DataFrame info 함수 활용\n",
    "\n"
   ]
  },
  {
   "cell_type": "markdown",
   "metadata": {
    "id": "lm9Px7KEzt6E"
   },
   "source": [
    "####  \n",
    "### **컬럼 삭제**"
   ]
  },
  {
   "cell_type": "markdown",
   "metadata": {
    "id": "gycCw_rLzt6E"
   },
   "source": [
    "#### <font color=blue> **[문제5] df 데이터프레임에서 'customerID' 컬럼을 삭제 하고 확인하세요.** </font>"
   ]
  },
  {
   "cell_type": "code",
   "execution_count": 12,
   "metadata": {
    "id": "eMLDhurCzt6E"
   },
   "outputs": [],
   "source": [
    "# DataFrame drop 함수 활용\n",
    "# axis=1 옵션 사용하여 컬럼단위 삭제 수행\n",
    "# inplace=True 옵션 사용, df DataFrame에 저장\n",
    "\n"
   ]
  },
  {
   "cell_type": "code",
   "execution_count": 13,
   "metadata": {
    "colab": {
     "base_uri": "https://localhost:8080/"
    },
    "id": "gTFXKBt7zt6E",
    "outputId": "0c3b6bbd-1c33-41e6-add3-6340e34c5c9f"
   },
   "outputs": [],
   "source": [
    "# info 함수 활용\n",
    "# 21컬럼에서 20개 컬럼으로 1개 줄어듬 확인\n",
    "# TotalCharges 컬럼이 숫자형인지 object인지 Dtype 확인\n",
    "\n"
   ]
  },
  {
   "cell_type": "markdown",
   "metadata": {
    "id": "7fT9Rdfjzt6F"
   },
   "source": [
    "####  \n",
    "### **컬럼 내용 변경하기** \n",
    "\n",
    "범주형 문자 데이터를 숫자로 변환하는것은 성능에 많은 영향을 미치므로 컬럼 타입을 변환해줘야 합니다.<br>\n",
    "null이나 문제있는 문자 데이터는 모델링하기 전에 미리 다른 데이터로 변경하거나 필요없을 경우에는 삭제합니다."
   ]
  },
  {
   "cell_type": "markdown",
   "metadata": {
    "id": "Nw6o9Zw5zt6F"
   },
   "source": [
    "#### TotalCharges 컬럼 타입 변경하기"
   ]
  },
  {
   "cell_type": "code",
   "execution_count": 14,
   "metadata": {
    "colab": {
     "base_uri": "https://localhost:8080/"
    },
    "id": "CxKGXN9izt6F",
    "outputId": "0e469533-8cf5-40e7-b07e-2d8f905c2e3d",
    "scrolled": true
   },
   "outputs": [],
   "source": [
    "# TotalCharges : 월사용요금이 실수형으로 보이는지 컬럼 확인\n",
    "\n"
   ]
  },
  {
   "cell_type": "code",
   "execution_count": 15,
   "metadata": {
    "colab": {
     "base_uri": "https://localhost:8080/",
     "height": 364
    },
    "id": "WMkg_8b1zt6F",
    "outputId": "a03a8f47-a528-4589-a8d8-61db56c4f0f4",
    "scrolled": true
   },
   "outputs": [],
   "source": [
    "# TotalCharges 컬럼 타입을 float으로 변경해 보자.\n",
    "# astype 함수 활용\n",
    "# 컬럼이 문자열이라면 숫자형으로 변경할 수 없으므로 에러가 발생할 것이다.\n",
    "\n"
   ]
  },
  {
   "cell_type": "code",
   "execution_count": 16,
   "metadata": {
    "colab": {
     "base_uri": "https://localhost:8080/"
    },
    "id": "1ePbx-y7zt6G",
    "outputId": "1784b8ac-8e01-4425-e4bb-3ed56e1ee017"
   },
   "outputs": [],
   "source": [
    "# Boolean indexing으로 'TotalCharges' 컬럼에 빈 문자열('')이나 공백문자(' ')인 값들이 있는지\n",
    "# 'filterd_df' DataFrame 저장, 출력하여 확인\n",
    "\n"
   ]
  },
  {
   "cell_type": "code",
   "execution_count": 17,
   "metadata": {
    "colab": {
     "base_uri": "https://localhost:8080/",
     "height": 614
    },
    "id": "-_UvMk4vzt6G",
    "outputId": "8d7f1a41-4395-4717-bd47-bb73a0fb3700",
    "scrolled": true
   },
   "outputs": [],
   "source": [
    "# 'TotalCharges' 열의 값이 빈 문자열('') 또는 공백문자(' ')인 조건을 'cond' 변수에 저장\n",
    "\n"
   ]
  },
  {
   "cell_type": "markdown",
   "metadata": {
    "id": "JKPmMVFlzt6G"
   },
   "source": [
    "####  \n",
    "#### <font color=blue> **[문제6] df 데이터프레임의 'TotalCharges' 컬럼의 값 ''과 ' '을 --> '0'으로 변경하세요.** </font>"
   ]
  },
  {
   "cell_type": "code",
   "execution_count": 18,
   "metadata": {
    "id": "-acD_1OKzt6G"
   },
   "outputs": [],
   "source": [
    "# DataFrame replace 함수 활용\n",
    "# 대상 컬럼 : 'TotalCharges'\n",
    "\n",
    "\n"
   ]
  },
  {
   "cell_type": "markdown",
   "metadata": {
    "id": "UMSbb4T8zt6H"
   },
   "source": [
    "#### <font color=blue> **[문제7] df 데이터프레임의 'TotalCharges' 컬럼 타입을 object에서 float으로 변경하세요.** </font>"
   ]
  },
  {
   "cell_type": "code",
   "execution_count": 19,
   "metadata": {
    "id": "NhKAXpuTzt6H"
   },
   "outputs": [],
   "source": [
    "# 변경된 결과를 TotalCharges 컬럼에 다시 넣어주기\n",
    "\n"
   ]
  },
  {
   "cell_type": "code",
   "execution_count": 20,
   "metadata": {
    "colab": {
     "base_uri": "https://localhost:8080/",
     "height": 113
    },
    "id": "mv0Vpc0uzt6H",
    "outputId": "3afe9104-f4a3-4ba6-bf48-4d6ca90c7601",
    "scrolled": true
   },
   "outputs": [],
   "source": [
    "# 다시 Boolean indexing으로 df[cond] 검색 : 'TotalCharges' 컬럼의 값이 빈 문자열 '' 또는 공백인 ' ' 행들이 있는지 확인\n",
    "# 빈 문자열이거나 공백인 행들이 없는지 확인\n",
    "\n"
   ]
  },
  {
   "cell_type": "code",
   "execution_count": 21,
   "metadata": {
    "colab": {
     "base_uri": "https://localhost:8080/"
    },
    "id": "I2ozL1ydzt6H",
    "outputId": "7bc539c8-3686-4457-8e67-06bbac82de40",
    "scrolled": true
   },
   "outputs": [],
   "source": [
    "# TotalCharges 컬럼이 float으로 잘 변경되었는지 확인 \n",
    "# info 함수 활용\n",
    "\n"
   ]
  },
  {
   "cell_type": "markdown",
   "metadata": {
    "id": "jP3W6JR7zt6H"
   },
   "source": [
    "#### **Churn 컬럼의 문자열값을 숫자로 변경**"
   ]
  },
  {
   "cell_type": "code",
   "execution_count": 22,
   "metadata": {
    "colab": {
     "base_uri": "https://localhost:8080/"
    },
    "id": "9zrpsGwMzt6H",
    "outputId": "5ed83e99-7956-4232-a965-c96dd4addd3e",
    "tags": []
   },
   "outputs": [],
   "source": [
    "# Churn 컬럼 분포 확인, value_counts 활용\n",
    "\n"
   ]
  },
  {
   "cell_type": "markdown",
   "metadata": {},
   "source": [
    "#### <font color=blue> **[문제8] df 데이터프레임에 'Churn' 컬럼의 ['Yes', 'No'] --> [1, 0]으로 변경하세요** </font>"
   ]
  },
  {
   "cell_type": "code",
   "execution_count": 23,
   "metadata": {
    "id": "AtOxyzm9zt6I"
   },
   "outputs": [],
   "source": [
    "# 컴퓨터는 문자열을 잘 이해하지 못하므로 숫자로 변경해야 함.\n",
    "# replace 함수 활용\n",
    "# inplace=True, 원본 데이터프레임 직접 수정\n",
    "\n"
   ]
  },
  {
   "cell_type": "code",
   "execution_count": 24,
   "metadata": {
    "colab": {
     "base_uri": "https://localhost:8080/"
    },
    "id": "ws8TKo9bzt6I",
    "outputId": "5ed25cfc-90fd-4808-e8ae-aa5f3e1720ab"
   },
   "outputs": [],
   "source": [
    "# Churn 컬럼의 분포 확인 \n",
    "# value_counts 함수 활용\n",
    "# yes(이탈)는 1, No(비이탈)는 0\n",
    "\n"
   ]
  },
  {
   "cell_type": "markdown",
   "metadata": {
    "id": "ozIRjhjJzt6I"
   },
   "source": [
    "####  \n",
    "### **Null 데이터 확인**"
   ]
  },
  {
   "cell_type": "markdown",
   "metadata": {
    "id": "vBJW3_W7zt6I"
   },
   "source": [
    "#### <font color=blue> **[문제9] df 데이터프레임에 대해 컬럼별로 null값이 얼마나 있는지 null의 갯수를 나열 하세요.** </font>"
   ]
  },
  {
   "cell_type": "code",
   "execution_count": 25,
   "metadata": {
    "colab": {
     "base_uri": "https://localhost:8080/"
    },
    "id": "MKO2LGSyzt6J",
    "outputId": "e5d35700-e9d5-4f87-ab84-b6b845e54991"
   },
   "outputs": [],
   "source": [
    "# DataFrame isnull() 함수 활용\n",
    "\n"
   ]
  },
  {
   "cell_type": "markdown",
   "metadata": {
    "id": "2Hi-jVgMzt6J"
   },
   "source": [
    " ######\n",
    " ### **결측치 처리**\n",
    "\n",
    "데이터에 결측치가 있을 경우, 모델링 단계에서 에러가 발생할 수 있으므로 반드시 결측치를 제거하거나 변경해야 한다.<br>\n",
    "결측치 제거 시 dropna() 함수를 활용해보자.<br>\n",
    "결측치를 변경할 때에는 주로 문자형 컬럼에 대해서는 최빈값으로, 숫자형 컬럼에 대해서는 중간값으로 결측치 대신해서 채울 수 있다."
   ]
  },
  {
   "cell_type": "markdown",
   "metadata": {
    "id": "tKv3QNq4zt6J"
   },
   "source": [
    "####  \n",
    "#### <font color=blue> **[문제10] df 데이터프레임의 결측치 많은 컬럼은 제거하고 나머지 결측치가 적은 컬럼은 Row 제거 하세요.** </font>"
   ]
  },
  {
   "cell_type": "code",
   "execution_count": 26,
   "metadata": {
    "id": "83xoHjqlzt6J"
   },
   "outputs": [],
   "source": [
    "# 1. 결측치 많은 컬럼 :  DeviceProtection  --> drop 함수 이용, 해당 컬럼 제거\n",
    "# 2. 결측치 작은 Row에 대해서 dropna로 제거 \n",
    "# inplace=True 옵션으로 자체 저장\n",
    "\n",
    "\n"
   ]
  },
  {
   "cell_type": "code",
   "execution_count": 27,
   "metadata": {
    "colab": {
     "base_uri": "https://localhost:8080/"
    },
    "id": "K3vpuuBwzt6J",
    "outputId": "c7d81ace-433f-4e0a-a498-ec273af14d0c"
   },
   "outputs": [],
   "source": [
    "# Null 여부 다시 확인\n",
    "\n"
   ]
  },
  {
   "cell_type": "code",
   "execution_count": 28,
   "metadata": {
    "colab": {
     "base_uri": "https://localhost:8080/"
    },
    "id": "UXdXv6XLzt6K",
    "outputId": "9503eab1-1c5c-4318-ec43-787d5908d24d"
   },
   "outputs": [],
   "source": [
    "# DeviceProtection 컬럼 삭제여부 확인\n",
    "\n"
   ]
  },
  {
   "cell_type": "markdown",
   "metadata": {
    "id": "45qw-GtGzt6K"
   },
   "source": [
    "#  \n",
    "## <span style=\"background-color:#fff5b1\"> [미션4] 시각화"
   ]
  },
  {
   "cell_type": "markdown",
   "metadata": {
    "id": "192lDHykzt6K"
   },
   "source": [
    "### **라이브러리 임포트하기**"
   ]
  },
  {
   "cell_type": "code",
   "execution_count": 29,
   "metadata": {
    "id": "q0V7_mlvzt6K"
   },
   "outputs": [],
   "source": [
    "# 아래 라이브러리를 임포트하세요.\n",
    "import matplotlib.pyplot as plt\n",
    "%matplotlib inline"
   ]
  },
  {
   "cell_type": "markdown",
   "metadata": {
    "id": "9fYXooyxzt6K"
   },
   "source": [
    "####  \n",
    "### Bar 차트"
   ]
  },
  {
   "cell_type": "code",
   "execution_count": 30,
   "metadata": {
    "colab": {
     "base_uri": "https://localhost:8080/"
    },
    "id": "JHwK2RIFzt6K",
    "outputId": "11b66038-4301-48cc-cec8-fb18f4137ae5"
   },
   "outputs": [],
   "source": [
    "# df 데이터프레임 'gender' 컬럼의 값 분포 구하기\n",
    "# DataFrame value_counts() 함수 활용\n",
    "\n"
   ]
  },
  {
   "cell_type": "code",
   "execution_count": 31,
   "metadata": {
    "colab": {
     "base_uri": "https://localhost:8080/",
     "height": 309
    },
    "id": "8iSUAfQ6zt6L",
    "outputId": "2fc723d5-38dc-4602-e94f-d8219da650ad"
   },
   "outputs": [],
   "source": [
    "# 'gender' 컬럼의 값 분포를 Bar 차트 그리기\n",
    "# DataFrame plot() 함수 활용\n",
    "# plot 함수 인자 : kind='bar'\n",
    "\n"
   ]
  },
  {
   "cell_type": "markdown",
   "metadata": {
    "id": "syDAao21zt6L"
   },
   "source": [
    "#### <font color=blue> **[문제11] df 데이터프레임의 'Partner' 컬럼의 값 분포를 구하고 Bar 차트를 그리세요.** </font>"
   ]
  },
  {
   "cell_type": "code",
   "execution_count": 32,
   "metadata": {
    "colab": {
     "base_uri": "https://localhost:8080/",
     "height": 289
    },
    "id": "gYRqqgEEzt6L",
    "outputId": "0e0cce32-0681-4970-9d1e-0fc56edfe660",
    "scrolled": true
   },
   "outputs": [],
   "source": [
    "# 대상 컬럼 : 'Partner'\n",
    "# plot 함수 인자 : kind='bar'\n",
    "\n"
   ]
  },
  {
   "cell_type": "markdown",
   "metadata": {
    "id": "k0WhB7Qfzt6L"
   },
   "source": [
    "####  \n",
    "### **Object 컬럼들에 대해서 각 컬럼의 값분포를 한꺼번에 Bar 차트로 확인해 봅시다.**"
   ]
  },
  {
   "cell_type": "code",
   "execution_count": 33,
   "metadata": {
    "colab": {
     "base_uri": "https://localhost:8080/",
     "height": 259
    },
    "id": "0E6sIM9Ozt6L",
    "outputId": "e237e8bf-197a-43ac-8053-b81184c400b4"
   },
   "outputs": [],
   "source": [
    "# object 컬럼만 뽑아보기\n",
    "# 방법1. 일일히 눈으로 보고 object 컬럼을 고른다\n",
    "# 방법2. select_dtypes() 함수를 활용한다.\n",
    "\n"
   ]
  },
  {
   "cell_type": "code",
   "execution_count": 34,
   "metadata": {
    "colab": {
     "base_uri": "https://localhost:8080/"
    },
    "id": "loHWSdxKzt6M",
    "outputId": "4987b572-6791-4307-a8c9-eb47c16a089a"
   },
   "outputs": [],
   "source": [
    "# Object인 컬럼명만 뽑아보기\n",
    "\n"
   ]
  },
  {
   "cell_type": "code",
   "execution_count": 35,
   "metadata": {
    "colab": {
     "base_uri": "https://localhost:8080/",
     "height": 1000
    },
    "id": "9G2QSJcKzt6M",
    "outputId": "3a050a54-0203-4f1c-c037-b9dcc2ee9b7d"
   },
   "outputs": [],
   "source": [
    "# Object 컬럼 하나씩 가져와서 각 컬럼의 분포를 Bar 차트 그려보기\n",
    "# 각 object 타입의 컬럼에 대해 반복 수행 (for col in df_object:)\n",
    "# plot 함수 인자 : kind='bar'\n",
    "\n"
   ]
  },
  {
   "cell_type": "markdown",
   "metadata": {
    "id": "UcI1GbIPzt6M"
   },
   "source": [
    "#### **불균형 심한 PhoneService 컬럼 삭제**\n",
    "#### <font color=blue> **[문제12] df 데이터프레임의 'PhoneService' 컬럼을 삭제하세요.** </font>"
   ]
  },
  {
   "cell_type": "code",
   "execution_count": 36,
   "metadata": {
    "id": "7vOTa2mFzt6M"
   },
   "outputs": [],
   "source": [
    "# inplace=True 옵션으로 자체 저장\n",
    "\n"
   ]
  },
  {
   "cell_type": "markdown",
   "metadata": {
    "id": "Rn0wGwNGzt6M"
   },
   "source": [
    "####  \n",
    "#### **숫자형 컬럼에 대한 시각화**"
   ]
  },
  {
   "cell_type": "code",
   "execution_count": 37,
   "metadata": {
    "colab": {
     "base_uri": "https://localhost:8080/",
     "height": 143
    },
    "id": "0iCdMZx_zt6N",
    "outputId": "a9e8cb47-0fcb-4446-d27e-6b3971d1a7ba"
   },
   "outputs": [],
   "source": [
    "# number(int, float) 컬럼에 대해 검색\n",
    "# select_dtypes 함수 활용\n",
    "\n"
   ]
  },
  {
   "cell_type": "markdown",
   "metadata": {
    "id": "69xzs51zzt6N",
    "tags": []
   },
   "source": [
    "#### **Churn 컬럼**"
   ]
  },
  {
   "cell_type": "code",
   "execution_count": 38,
   "metadata": {
    "colab": {
     "base_uri": "https://localhost:8080/"
    },
    "id": "xW6s6sHGzt6N",
    "outputId": "5a917ea4-4200-4900-a57a-6e761c9e2993",
    "tags": []
   },
   "outputs": [],
   "source": [
    "# Churn 컬럼은 0, 1로 되어 있으므로 분포 확인\n",
    "\n"
   ]
  },
  {
   "cell_type": "markdown",
   "metadata": {},
   "source": [
    "#### <font color=blue> **[문제13] Churn 컬럼에 대해 Bar 차트를 그리고 이탈여부 현황을 확인하시오.** </font>"
   ]
  },
  {
   "cell_type": "code",
   "execution_count": 39,
   "metadata": {
    "colab": {
     "base_uri": "https://localhost:8080/",
     "height": 280
    },
    "id": "BGgPFvYizt6N",
    "outputId": "cdaf4273-bb67-4c7c-e494-fa62d75dc40e"
   },
   "outputs": [],
   "source": [
    "# 'Churn' 컬럼의 값 분포를 Bar 차트 그리기\n",
    "\n"
   ]
  },
  {
   "cell_type": "markdown",
   "metadata": {
    "id": "NcTCAI3uzt6N"
   },
   "source": [
    "#### **SeniorCitizen 컬럼**"
   ]
  },
  {
   "cell_type": "code",
   "execution_count": 40,
   "metadata": {
    "colab": {
     "base_uri": "https://localhost:8080/"
    },
    "id": "qG3lRh-4zt6N",
    "outputId": "a7ea6831-26e3-4a6f-c280-e13fb0b9de79"
   },
   "outputs": [],
   "source": [
    "# SeniorCitizen 컬럼은 0, 1로 되어 있으므로 분포 확인\n",
    "\n"
   ]
  },
  {
   "cell_type": "code",
   "execution_count": 41,
   "metadata": {
    "colab": {
     "base_uri": "https://localhost:8080/",
     "height": 289
    },
    "id": "6Lerw418zt6O",
    "outputId": "c8105a65-49b5-41b6-d9d3-9b4314ad754a"
   },
   "outputs": [],
   "source": [
    "# SeniorCitizen 컬럼에 대한 Bar 차트 그리기\n",
    "\n"
   ]
  },
  {
   "cell_type": "markdown",
   "metadata": {
    "id": "YpEyB2Lyzt6O"
   },
   "source": [
    "#### <font color=blue> **[문제14] 불균형이 심한 'SeniorCitizen' 컬럼을 삭제하세요.** </font>"
   ]
  },
  {
   "cell_type": "code",
   "execution_count": 42,
   "metadata": {
    "id": "vDYDOLtyzt6O",
    "scrolled": true
   },
   "outputs": [],
   "source": [
    "# DataFrame drop() 함수 활용\n",
    "# 대상 컬럼 : 'SeniorCitizen'  \n",
    "# axis 와 inplace 옵션 사용\n",
    "\n"
   ]
  },
  {
   "cell_type": "code",
   "execution_count": 43,
   "metadata": {
    "colab": {
     "base_uri": "https://localhost:8080/"
    },
    "id": "JttbK72gzt6O",
    "outputId": "c9424279-5162-407a-d9a0-73a956ef7146"
   },
   "outputs": [],
   "source": [
    "# SeniorCitizen 삭제 확인\n",
    "\n"
   ]
  },
  {
   "cell_type": "markdown",
   "metadata": {
    "id": "KFZu8kIQzt6O"
   },
   "source": [
    "####  \n",
    "### **Histogram**"
   ]
  },
  {
   "cell_type": "code",
   "execution_count": 44,
   "metadata": {
    "id": "8w8QE1dzzt6P"
   },
   "outputs": [],
   "source": [
    "# seaborn 라이브러리 임포트하기\n",
    "\n"
   ]
  },
  {
   "cell_type": "markdown",
   "metadata": {
    "id": "1qgjcXFOzt6P"
   },
   "source": [
    "#### tenure 컬럼"
   ]
  },
  {
   "cell_type": "code",
   "execution_count": 45,
   "metadata": {
    "colab": {
     "base_uri": "https://localhost:8080/",
     "height": 297
    },
    "id": "m5tzyEMkzt6P",
    "outputId": "70f21ec2-0fad-467d-d5ea-424e229e1656"
   },
   "outputs": [],
   "source": [
    "# tenure(서비스 사용기간)에 대한 히스토그램을 그리고, 주석으로 현황 작성\n",
    "\n",
    "\n",
    "# [tenure 현황] ↓\n",
    "\n"
   ]
  },
  {
   "cell_type": "code",
   "execution_count": 46,
   "metadata": {
    "colab": {
     "base_uri": "https://localhost:8080/",
     "height": 297
    },
    "id": "NPWzP0hFzt6P",
    "outputId": "5ca5dff8-d3f2-4957-85c3-a91b62e21033"
   },
   "outputs": [],
   "source": [
    "# tenure(서비스 사용기간)에 대한 히스토그램을 Churn으로 구분\n",
    "# x='tenure', hue='Churn'\n",
    "\n",
    "\n"
   ]
  },
  {
   "cell_type": "code",
   "execution_count": 47,
   "metadata": {
    "colab": {
     "base_uri": "https://localhost:8080/",
     "height": 297
    },
    "id": "VvFSzHkdzt6P",
    "outputId": "2133cb3a-2fb2-414a-e439-89f170a4e614"
   },
   "outputs": [],
   "source": [
    "# kdeplot : tenure에 대한 히스토그램을 곡선으로 그려보고 현황 작성\n",
    "\n",
    "\n",
    "# [tenure에 따른 Churn 현황] ↓\n",
    "\n"
   ]
  },
  {
   "cell_type": "markdown",
   "metadata": {
    "id": "SfYkzDiOzt6Q"
   },
   "source": [
    "#### TotalCharges 컬럼"
   ]
  },
  {
   "cell_type": "code",
   "execution_count": 48,
   "metadata": {
    "colab": {
     "base_uri": "https://localhost:8080/",
     "height": 297
    },
    "id": "XBH2Gxwxzt6Q",
    "outputId": "32dd2c8c-caad-4ddd-c1cc-5964bf634157"
   },
   "outputs": [],
   "source": [
    "# TotalCharges(서비스 총요금)에 대한 히스토그램을 그리고 현황 작성\n",
    "\n",
    "\n",
    "# [TotalCharges 현황] ↓\n",
    "\n"
   ]
  },
  {
   "cell_type": "code",
   "execution_count": 49,
   "metadata": {
    "colab": {
     "base_uri": "https://localhost:8080/",
     "height": 297
    },
    "id": "j1a0QRevzt6Q",
    "outputId": "a7d58f12-adad-4466-a868-16d3bff1756f"
   },
   "outputs": [],
   "source": [
    "# kdeplot : TotalCharges에 대한 히스토그램을 곡선으로 그리고 현황 작성\n",
    "# x='TotalCharges', hue='Churn'\n",
    "\n",
    "\n",
    "# [TotalCharges에 따른 Churn 현황] ↓\n",
    "\n"
   ]
  },
  {
   "cell_type": "markdown",
   "metadata": {
    "id": "3ASDnxztzt6Q"
   },
   "source": [
    "####  \n",
    "### Countplot"
   ]
  },
  {
   "cell_type": "code",
   "execution_count": 50,
   "metadata": {
    "colab": {
     "base_uri": "https://localhost:8080/",
     "height": 297
    },
    "id": "-44H6Dunzt6Q",
    "outputId": "b515c877-06e6-4870-be11-0a9f46aef859"
   },
   "outputs": [],
   "source": [
    "# MultipleLines 서비스를 사용하는 고객에 대한 Countplot을 그리고 현황 작성\n",
    "\n",
    "\n",
    "# [Multiplelines에 따른 Churn 현황] ↓\n",
    "\n",
    "\n"
   ]
  },
  {
   "cell_type": "markdown",
   "metadata": {
    "id": "y8_NKeymzt6Q"
   },
   "source": [
    "####  \n",
    "### heatmap"
   ]
  },
  {
   "cell_type": "markdown",
   "metadata": {},
   "source": [
    "#### <font color=blue> **[문제15] 'tenure', 'MonthlyCharges', 'TotalCharges' 컬럼간의 상관관계를 heatmap으로 그려보시오.** </font>"
   ]
  },
  {
   "cell_type": "code",
   "execution_count": 51,
   "metadata": {
    "colab": {
     "base_uri": "https://localhost:8080/",
     "height": 143
    },
    "id": "BotYj0ECzt6R",
    "outputId": "530efbf6-c0e3-4d2c-cbdd-cdf28c30cc83"
   },
   "outputs": [],
   "source": [
    "# corr() 메소드 사용 \n",
    "\n"
   ]
  },
  {
   "cell_type": "code",
   "execution_count": 52,
   "metadata": {
    "colab": {
     "base_uri": "https://localhost:8080/",
     "height": 287
    },
    "id": "QyJT99spzt6R",
    "outputId": "c5ca3de8-0d42-4fb0-86fc-b7d39a41ca27"
   },
   "outputs": [],
   "source": [
    "# heatmap으로 tenure, MonthlyCarges, TotalCharges간의 상관관계 살펴보기\n",
    "# corr() 메소드 사용, annot=True를 사용하여 각 셀에 셀의 값 표시\n",
    "\n",
    "\n",
    "# [상관관계 분석] ↓\n"
   ]
  },
  {
   "cell_type": "markdown",
   "metadata": {
    "id": "FwM1bubDzt6R"
   },
   "source": [
    "####  \n",
    "### boxplot"
   ]
  },
  {
   "cell_type": "code",
   "execution_count": 53,
   "metadata": {
    "colab": {
     "base_uri": "https://localhost:8080/",
     "height": 297
    },
    "id": "tAPwIMtrzt6R",
    "outputId": "2cdb955a-a896-4fc9-e063-8f49bc05163e",
    "scrolled": true
   },
   "outputs": [],
   "source": [
    "# TotalCharges에 대한 이탈현황을 boxplot으로 그리고 현황을 작성하시오.\n",
    "# x= Churn, y= TotalCharges\n",
    "\n",
    "\n",
    "# [TotalCharges에 대한 이탈현황 분석] ↓\n",
    "\n"
   ]
  },
  {
   "cell_type": "markdown",
   "metadata": {
    "id": "9Ec61f24zt6S"
   },
   "source": [
    "#  \n",
    "## <span style=\"background-color:#fff5b1\"># 5. 결과 저장하기"
   ]
  },
  {
   "cell_type": "markdown",
   "metadata": {
    "id": "DhIQgEEBzt6S"
   },
   "source": [
    "### **결과를 csv 파일로 저장하기**"
   ]
  },
  {
   "cell_type": "code",
   "execution_count": 54,
   "metadata": {
    "id": "hUhvHzC8zt6S"
   },
   "outputs": [],
   "source": [
    "# to_csv 함수로 결과 저장\n",
    "# 저장할 파일명 : 'data_v1_save.csv'\n",
    "# index=False, 기존 인덱스 값을 저장하지 않기\n"
   ]
  },
  {
   "cell_type": "code",
   "execution_count": 55,
   "metadata": {
    "colab": {
     "base_uri": "https://localhost:8080/",
     "height": 392
    },
    "id": "DEt2b1N7zt6S",
    "outputId": "205721dc-b4f9-4aff-efd4-0b6e106e9326"
   },
   "outputs": [],
   "source": [
    "# 잘 저장되었는지 파일을 읽어 확인하기\n",
    "# pd.read_csv 함수\n"
   ]
  },
  {
   "cell_type": "code",
   "execution_count": 56,
   "metadata": {
    "id": "SYJwVbbxzt6S"
   },
   "outputs": [],
   "source": [
    "# 개별실습 끝 ! 시간이 남으시는 분들은 모델링 실습으로 넘어가셔도 됩니다."
   ]
  },
  {
   "cell_type": "markdown",
   "metadata": {
    "id": "GePgMkKbzt6S"
   },
   "source": [
    "##  \n",
    "## <span style=\"background-color:#fff5b1\"># 이제까지 여러분들이 성공한 미션들을 다시 한번 볼까요?\n",
    "    \n",
    "#### **1. 필요 라이브러리 임포트 및 파일 읽어오기 : pd.read_csv()**\n",
    "#### **2. EDA (Exploratory Data Analysis) 탐색적 데이터 분석 : df.info(), df.head(), df.tail()**\n",
    "#### **3. 데이터 전처리 수행**\n",
    " + 불필요 컬럼 삭제 : df.drop()\n",
    " + 컬럼 내용 변경하기 : df.replace()\n",
    " + Null 처리 : df.replace(), df.dropna()\n",
    " + 컬럼 type 변경하기 : df['col'].astype(int)\n",
    "#### **4. 시각화**\n",
    " + matplotlib, seaborn\n",
    " + bar, scatter, countplot, boxplot \n",
    "#### **5. 결과 저장하기**\n",
    " + to_csv()"
   ]
  },
  {
   "cell_type": "markdown",
   "metadata": {
    "id": "hbihEcMmzt6T"
   },
   "source": [
    "#### 개별실습을 수행하시느라 고생 많으셨습니다.\n",
    "\n",
    "#### 점심 맛있게 드세요*^^*"
   ]
  }
 ],
 "metadata": {
  "colab": {
   "collapsed_sections": [],
   "name": "Python활용AI모델링_01.전처리_퀴즈_v3_20220219.ipynb",
   "provenance": []
  },
  "kernelspec": {
   "display_name": "Python 3 (ipykernel)",
   "language": "python",
   "name": "python3"
  },
  "language_info": {
   "codemirror_mode": {
    "name": "ipython",
    "version": 3
   },
   "file_extension": ".py",
   "mimetype": "text/x-python",
   "name": "python",
   "nbconvert_exporter": "python",
   "pygments_lexer": "ipython3",
   "version": "3.9.13"
  }
 },
 "nbformat": 4,
 "nbformat_minor": 4
}
