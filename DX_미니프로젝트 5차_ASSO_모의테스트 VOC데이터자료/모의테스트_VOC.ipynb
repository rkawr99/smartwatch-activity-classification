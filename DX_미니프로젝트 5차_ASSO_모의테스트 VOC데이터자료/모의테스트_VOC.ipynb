{
 "cells": [
  {
   "cell_type": "markdown",
   "metadata": {},
   "source": [
    "# ASSOCIATION 모의테스트_VOC 고객 해지 예측 모델링\n",
    "#### 주제 : 데이터를 분석 및 전처리한 후 머신러닝과 딥러닝으로 VOC를 제기한 고객의 해지여부를 예측하고 결과를 분석하세요.\n",
    "\n",
    "+ 각 문제의 답안코드는 반드시 '# 여기에 답안코드를 작성하세요'로 표시된 cell에 작성해주세요.\n",
    "+ 문제에 제시된 가이드를 읽고 답안 작성하세요.\n",
    "+ 문제에 변수명이 제시된 경우 반드시 해당 변수명을 사용하세요.\n",
    "+ 본 파일과 관련 데이터 파일은 제 3자에게 공유하거나 개인적인 용도로 사용하는 등 외부로 유출할 수 없으며 유출로 인한 책임은 응시자 본인에게 있습니다.\n",
    "<br>"
   ]
  },
  {
   "cell_type": "code",
   "execution_count": 1,
   "metadata": {},
   "outputs": [],
   "source": [
    "# 아래 코드를 실행해주세요 (코드 실행시 경고메시지 무시)\n",
    "\n",
    "import warnings\n",
    "warnings.filterwarnings(action='ignore')"
   ]
  },
  {
   "cell_type": "markdown",
   "metadata": {},
   "source": [
    "<br>"
   ]
  },
  {
   "cell_type": "markdown",
   "metadata": {},
   "source": [
    "## **<span style=\"color:black\">필요한 라이브러리 설치</span>**"
   ]
  },
  {
   "cell_type": "markdown",
   "metadata": {},
   "source": [
    "**아래와 같이 pip 이용해서 seaborn을 설치하세요.**"
   ]
  },
  {
   "cell_type": "code",
   "execution_count": 2,
   "metadata": {},
   "outputs": [
    {
     "name": "stdout",
     "output_type": "stream",
     "text": [
      "Defaulting to user installation because normal site-packages is not writeable\n",
      "Requirement already satisfied: seaborn in c:\\anaconda3\\lib\\site-packages (0.11.2)\n",
      "Requirement already satisfied: scipy>=1.0 in c:\\anaconda3\\lib\\site-packages (from seaborn) (1.9.1)\n",
      "Requirement already satisfied: pandas>=0.23 in c:\\users\\user\\appdata\\roaming\\python\\python39\\site-packages (from seaborn) (1.5.3)\n",
      "Requirement already satisfied: numpy>=1.15 in c:\\anaconda3\\lib\\site-packages (from seaborn) (1.21.5)\n",
      "Requirement already satisfied: matplotlib>=2.2 in c:\\users\\user\\appdata\\roaming\\python\\python39\\site-packages (from seaborn) (3.7.2)\n",
      "Requirement already satisfied: contourpy>=1.0.1 in c:\\users\\user\\appdata\\roaming\\python\\python39\\site-packages (from matplotlib>=2.2->seaborn) (1.1.0)\n",
      "Requirement already satisfied: fonttools>=4.22.0 in c:\\anaconda3\\lib\\site-packages (from matplotlib>=2.2->seaborn) (4.25.0)\n",
      "Requirement already satisfied: kiwisolver>=1.0.1 in c:\\anaconda3\\lib\\site-packages (from matplotlib>=2.2->seaborn) (1.4.2)\n",
      "Requirement already satisfied: pillow>=6.2.0 in c:\\anaconda3\\lib\\site-packages (from matplotlib>=2.2->seaborn) (9.2.0)\n",
      "Requirement already satisfied: cycler>=0.10 in c:\\anaconda3\\lib\\site-packages (from matplotlib>=2.2->seaborn) (0.11.0)\n",
      "Requirement already satisfied: packaging>=20.0 in c:\\anaconda3\\lib\\site-packages (from matplotlib>=2.2->seaborn) (21.3)\n",
      "Requirement already satisfied: pyparsing<3.1,>=2.3.1 in c:\\anaconda3\\lib\\site-packages (from matplotlib>=2.2->seaborn) (3.0.9)\n",
      "Requirement already satisfied: importlib-resources>=3.2.0 in c:\\users\\user\\appdata\\roaming\\python\\python39\\site-packages (from matplotlib>=2.2->seaborn) (6.0.0)\n",
      "Requirement already satisfied: python-dateutil>=2.7 in c:\\anaconda3\\lib\\site-packages (from matplotlib>=2.2->seaborn) (2.8.2)\n",
      "Requirement already satisfied: pytz>=2020.1 in c:\\anaconda3\\lib\\site-packages (from pandas>=0.23->seaborn) (2022.1)\n",
      "Requirement already satisfied: zipp>=3.1.0 in c:\\anaconda3\\lib\\site-packages (from importlib-resources>=3.2.0->matplotlib>=2.2->seaborn) (3.8.0)\n",
      "Requirement already satisfied: six>=1.5 in c:\\anaconda3\\lib\\site-packages (from python-dateutil>=2.7->matplotlib>=2.2->seaborn) (1.16.0)\n"
     ]
    }
   ],
   "source": [
    "# 맨 앞쪽에 ! 사용하면 리눅스 명령어를 수행할 수 있습니다.\n",
    "\n",
    "!pip install seaborn\n"
   ]
  },
  {
   "cell_type": "markdown",
   "metadata": {},
   "source": [
    "**<br>\n",
    "<font color=blue>문제1. numpy 별칭을 np로, pandas 별칭을 pd로 해서 임포트하는 코드를 작성하고 실행하세요.</font>**"
   ]
  },
  {
   "cell_type": "code",
   "execution_count": 3,
   "metadata": {},
   "outputs": [],
   "source": [
    "# 여기에 답안코드를 작성하세요.\n",
    "# import 명령 사용\n",
    "# numpy와 pandas 라이브러리 임포트\n"
   ]
  },
  {
   "cell_type": "markdown",
   "metadata": {},
   "source": [
    "**<br>\n",
    "<font color=blue>문제2. matplotlib 라이브러리를 plt로, seaborn을 sns로 해서 임포트하는 코드를 작성하고 실행하세요.**"
   ]
  },
  {
   "cell_type": "code",
   "execution_count": 4,
   "metadata": {},
   "outputs": [],
   "source": [
    "# 여기에 답안코드를 작성하세요.\n",
    "\n",
    "\n"
   ]
  },
  {
   "cell_type": "markdown",
   "metadata": {},
   "source": [
    "<br>"
   ]
  },
  {
   "cell_type": "markdown",
   "metadata": {},
   "source": [
    "## **<span style=\"color:black\">Tabular 데이터 로딩</span>**"
   ]
  },
  {
   "cell_type": "markdown",
   "metadata": {},
   "source": [
    "**<br>\n",
    "<font color=blue>문제3. pandas read_csv 함수를 사용하여 voc_data.csv 파일을 읽어 변수명 df에 할당하는 코드를 작성하세요.</font>**"
   ]
  },
  {
   "cell_type": "code",
   "execution_count": 5,
   "metadata": {},
   "outputs": [],
   "source": [
    "# 여기에 답안코드를 작성하세요.\n",
    "# 읽어올 파일명 : voc_data.csv\n",
    "# 읽어온 파일을 DataFrame \"df\" 이름으로 저장\n",
    "\n",
    "\n"
   ]
  },
  {
   "cell_type": "markdown",
   "metadata": {},
   "source": [
    "<br>"
   ]
  },
  {
   "cell_type": "markdown",
   "metadata": {},
   "source": [
    "## **<span style=\"color:black\">데이터의 구성 확인</span>**"
   ]
  },
  {
   "cell_type": "markdown",
   "metadata": {},
   "source": [
    "##### **\"df\" DataFrame을 이용해서 읽어들인 파일의 앞부분 5줄, 뒷부분 5줄을 출력하세요**"
   ]
  },
  {
   "cell_type": "code",
   "execution_count": 6,
   "metadata": {},
   "outputs": [],
   "source": [
    "# head() 함수 사용\n",
    "\n"
   ]
  },
  {
   "cell_type": "code",
   "execution_count": 7,
   "metadata": {},
   "outputs": [],
   "source": [
    "# tail() 함수 사용\n",
    "\n"
   ]
  },
  {
   "cell_type": "markdown",
   "metadata": {},
   "source": [
    "##### \n",
    "**데이터프레임 정보(컬럼정보, Null 여부, 타입)를 출력하세요.**"
   ]
  },
  {
   "cell_type": "code",
   "execution_count": 8,
   "metadata": {},
   "outputs": [],
   "source": [
    "# DataFrame의 info() 함수 활용\n",
    "# 총 24개 컬럼 있음 확인\n",
    "\n",
    "\n"
   ]
  },
  {
   "cell_type": "markdown",
   "metadata": {},
   "source": [
    "##### \n",
    "**데이터프레임 인덱스를 확인하세요.**"
   ]
  },
  {
   "cell_type": "code",
   "execution_count": null,
   "metadata": {},
   "outputs": [],
   "source": []
  },
  {
   "cell_type": "markdown",
   "metadata": {},
   "source": [
    "#####\n",
    " **데이터프레임 컬럼을 확인하세요.**"
   ]
  },
  {
   "cell_type": "code",
   "execution_count": null,
   "metadata": {},
   "outputs": [],
   "source": []
  },
  {
   "cell_type": "markdown",
   "metadata": {},
   "source": [
    "#####\n",
    "**데이터프레임 값(value)을 확인하세요.**"
   ]
  },
  {
   "cell_type": "code",
   "execution_count": null,
   "metadata": {},
   "outputs": [],
   "source": []
  },
  {
   "cell_type": "markdown",
   "metadata": {},
   "source": [
    "#####\n",
    "**데이터프레임의 계산 가능한 값들에 대한 통계치를 확인하세요.**"
   ]
  },
  {
   "cell_type": "code",
   "execution_count": null,
   "metadata": {},
   "outputs": [],
   "source": []
  },
  {
   "cell_type": "markdown",
   "metadata": {},
   "source": [
    "#####\n",
    "**DataFrame 컬럼 항목에 Null이 존재하는지 확인하세요.**"
   ]
  },
  {
   "cell_type": "code",
   "execution_count": 9,
   "metadata": {},
   "outputs": [],
   "source": [
    "# DataFrame의 isnull() 함수 사용\n",
    "# Null 합계를 보려면 sum() 함수 사용\n",
    "\n",
    "\n"
   ]
  },
  {
   "cell_type": "markdown",
   "metadata": {},
   "source": [
    "#####\n",
    "**voc_trt_perd_itg_cd 컬럼 데이터별 건수를 나열하세요.**"
   ]
  },
  {
   "cell_type": "code",
   "execution_count": 10,
   "metadata": {},
   "outputs": [],
   "source": [
    "# df DataFrame의 'voc_trt_perd_itg_cd'컬럼에 value_counts() 함수 사용\n",
    "\n",
    "\n"
   ]
  },
  {
   "cell_type": "code",
   "execution_count": 11,
   "metadata": {},
   "outputs": [
    {
     "ename": "NameError",
     "evalue": "name 'df' is not defined",
     "output_type": "error",
     "traceback": [
      "\u001b[1;31m---------------------------------------------------------------------------\u001b[0m",
      "\u001b[1;31mNameError\u001b[0m                                 Traceback (most recent call last)",
      "\u001b[1;32m~\\AppData\\Local\\Temp\\ipykernel_6732\\1021947448.py\u001b[0m in \u001b[0;36m<module>\u001b[1;34m\u001b[0m\n\u001b[0;32m      1\u001b[0m \u001b[1;31m# [참고] voc_trt_perd_itg_cd 컬럼 데이터별 건수 비율 보기 (정규화된 형태로 출력)\u001b[0m\u001b[1;33m\u001b[0m\u001b[1;33m\u001b[0m\u001b[0m\n\u001b[0;32m      2\u001b[0m \u001b[1;33m\u001b[0m\u001b[0m\n\u001b[1;32m----> 3\u001b[1;33m \u001b[0mdf\u001b[0m\u001b[1;33m[\u001b[0m\u001b[1;34m'voc_trt_perd_itg_cd'\u001b[0m\u001b[1;33m]\u001b[0m\u001b[1;33m.\u001b[0m\u001b[0mvalue_counts\u001b[0m\u001b[1;33m(\u001b[0m\u001b[0mnormalize\u001b[0m\u001b[1;33m=\u001b[0m\u001b[1;32mTrue\u001b[0m\u001b[1;33m)\u001b[0m\u001b[1;33m\u001b[0m\u001b[1;33m\u001b[0m\u001b[0m\n\u001b[0m",
      "\u001b[1;31mNameError\u001b[0m: name 'df' is not defined"
     ]
    }
   ],
   "source": [
    "# [참고] voc_trt_perd_itg_cd 컬럼 데이터별 건수 비율 보기 (정규화된 형태로 출력)\n",
    "\n",
    "df['voc_trt_perd_itg_cd'].value_counts(normalize=True)"
   ]
  },
  {
   "cell_type": "markdown",
   "metadata": {
    "tags": []
   },
   "source": [
    "## **<span style=\"color:black\">불필요한 컬럼 삭제</span>**"
   ]
  },
  {
   "cell_type": "markdown",
   "metadata": {},
   "source": [
    "#####\n",
    "**'_' 값이 50% 이상 차지하는 컬럼을 제외하고 분석하려 합니다. 다음 컬럼들을 삭제하세요.**"
   ]
  },
  {
   "cell_type": "code",
   "execution_count": null,
   "metadata": {},
   "outputs": [],
   "source": [
    "# 제외 컬럼 :  voc_trt_perd_itg_cd, voc_trt_reslt_itg_cd, oos_cause_type_itg_cd, engt_cperd_type_itg_cd, engt_tgt_div_itg_cd, fclt_oos_yn\n",
    "# DataFrame drop() 함수 사용\n",
    "# 컬럼 삭제한 결과를 \"df1\" DataFrame 저장\n",
    "\n",
    "\n"
   ]
  },
  {
   "cell_type": "markdown",
   "metadata": {},
   "source": [
    "#####\n",
    "**'voc_mis_pbls_yn' 컬럼은 'N' 값이 99% 이상 차지하므로 삭제하세요.</font>**"
   ]
  },
  {
   "cell_type": "code",
   "execution_count": null,
   "metadata": {
    "tags": []
   },
   "outputs": [],
   "source": []
  },
  {
   "cell_type": "markdown",
   "metadata": {},
   "source": [
    "#####\n",
    "**날짜 관련 컬럼을 삭제하세요.</font>**"
   ]
  },
  {
   "cell_type": "code",
   "execution_count": null,
   "metadata": {
    "tags": []
   },
   "outputs": [],
   "source": [
    "# 날짜 관련 컬럼 : 'new_date', 'opn_nfl_chg_date', 'cont_fns_pam_date'\n",
    "\n"
   ]
  },
  {
   "cell_type": "markdown",
   "metadata": {},
   "source": [
    "## **<span style=\"color:black\">데이터 결측치 처리</span>**"
   ]
  },
  {
   "cell_type": "markdown",
   "metadata": {},
   "source": [
    "**<br>\n",
    "<font color=blue>문제4. 모델링 성능을 제대로 얻기 위해서 결측치 처리는 필수 입니다. 아래 가이드를 따라 결측치를 처리하세요.</font>**\n",
    "+ DataFrame replace 함수를 사용해서 모든 컬럼에 대해 '_'값을 null로 변경\n",
    "+ Null 표현: np.nan \n",
    "+ \"df1\" DataFrame 자체에 저장할 것이므로 inplace=True 사용\n",
    "+ 컬럼별 Null 갯수 확인"
   ]
  },
  {
   "cell_type": "code",
   "execution_count": null,
   "metadata": {},
   "outputs": [],
   "source": [
    "# 여기에 답안코드를 작성하세요.\n",
    "\n"
   ]
  },
  {
   "cell_type": "markdown",
   "metadata": {},
   "source": [
    "**<br>\n",
    "<font color=blue>문제5. 아래 가이드에 따라 'cust_clas_itg_cd' 컬럼의 값 중에 Null을 컬럼의 최빈값으로 변경하세요.</font>**\n",
    "+ DataFrame의 fillna() 함수 사용\n",
    "+ cust_clas_itg_cd 컬럼에 대한 값 분포 확인\n",
    "+ 적용 대상 컬럼 : 'cust_clas_itg_cd'\n",
    "+ \"df1\" DataFrame에 자체에 저장할 것이므로 inplace=True 사용\n",
    "+ 결측값을 'L'로 대체"
   ]
  },
  {
   "cell_type": "code",
   "execution_count": null,
   "metadata": {},
   "outputs": [],
   "source": [
    "# 여기에 답안코드를 작성하세요.\n",
    "# cust_clas_itg_cd 컬럼에 대한 값 분포 확인\n",
    "\n"
   ]
  },
  {
   "cell_type": "code",
   "execution_count": null,
   "metadata": {},
   "outputs": [],
   "source": [
    "# 여기에 답안코드를 작성하세요.\n",
    "# DataFrame의 fillna() 함수 사용\n",
    "# 적용 대상 컬럼 : 'cust_clas_itg_cd'\n",
    "# \"df1\" DataFrame에 자체에 저장할 것이므로 inplace=True 사용\n",
    "# 결측값을 'L'로 대체\n",
    "\n"
   ]
  },
  {
   "cell_type": "code",
   "execution_count": null,
   "metadata": {},
   "outputs": [],
   "source": [
    "# (참고) fillna 대신 replace함수 사용하여 처리해도 됨.\n",
    "# (참고) df1['cust_clas_itg_cd'].replace(np.nan, 'L', inplace=True)"
   ]
  },
  {
   "cell_type": "code",
   "execution_count": null,
   "metadata": {},
   "outputs": [],
   "source": [
    "# cust_clas_itg_cd 컬럼 Null 갯수 확인\n",
    "\n"
   ]
  },
  {
   "cell_type": "markdown",
   "metadata": {},
   "source": [
    "**<br>\n",
    "<font color=blue>문제6. 아래 주석에 따라 'age_itg_cd'의 null 값을 중앙값(median)으로 변경하고 데이터 타입을 정수(int)로 변경하세요.</font>**"
   ]
  },
  {
   "cell_type": "code",
   "execution_count": null,
   "metadata": {},
   "outputs": [],
   "source": [
    "# 여기에 답안코드를 작성하세요.\n",
    "# 'age_itg_cd' 중앙값 계산\n",
    "\n"
   ]
  },
  {
   "cell_type": "code",
   "execution_count": null,
   "metadata": {},
   "outputs": [],
   "source": [
    "# 여기에 답안코드를 작성하세요.\n",
    "# 'age_itg_cd' 컬럼에 대해 null 값을 중앙값 49로 replace\n",
    "\n"
   ]
  },
  {
   "cell_type": "code",
   "execution_count": null,
   "metadata": {},
   "outputs": [],
   "source": [
    "# 여기에 답안코드를 작성하세요.\n",
    "# 'age_itg_cd' 컬럼 type 확인 : Object인지 확인\n",
    "\n"
   ]
  },
  {
   "cell_type": "code",
   "execution_count": null,
   "metadata": {},
   "outputs": [],
   "source": [
    "# 여기에 답안코드를 작성하세요.\n",
    "# DataFrame의 astype() 함수 사용해서 int 인자 삽입\n",
    "# 변경 대상 : df1['age_itg_cd']\n",
    "\n",
    "\n"
   ]
  },
  {
   "cell_type": "code",
   "execution_count": null,
   "metadata": {},
   "outputs": [],
   "source": [
    "# 여기에 답안코드를 작성하세요.\n",
    "# null 값 개수 확인\n",
    "\n"
   ]
  },
  {
   "cell_type": "code",
   "execution_count": null,
   "metadata": {},
   "outputs": [],
   "source": [
    "# 여기에 답안코드를 작성하세요.\n",
    "# age_itg_cd 컬럼 type 확인 : int32인지 확인\n",
    "\n"
   ]
  },
  {
   "cell_type": "markdown",
   "metadata": {},
   "source": [
    "**<br>\n",
    "<font color=blue>문제7. 아래 주석에 따라 'cont_sttus_itg_cd'의 null 값과 'cust_dtl_ctg_itg_cd'의 null 값을 최빈값(mode)으로 변경하세요.</font>**"
   ]
  },
  {
   "cell_type": "code",
   "execution_count": null,
   "metadata": {},
   "outputs": [],
   "source": [
    "# 여기에 답안코드를 작성하세요.\n",
    "# 'cont_sttus_itg_cd' 컬럼에서 NULL 값 개수 계산\n",
    "\n"
   ]
  },
  {
   "cell_type": "code",
   "execution_count": null,
   "metadata": {},
   "outputs": [],
   "source": [
    "# 여기에 답안코드를 작성하세요.\n",
    "# 'cont_sttus_itg_cd' 컬럼의 각 고유 값들의 빈도를 계산\n",
    "\n"
   ]
  },
  {
   "cell_type": "code",
   "execution_count": null,
   "metadata": {},
   "outputs": [],
   "source": [
    "# 여기에 답안코드를 작성하세요.\n",
    "# 'cont_sttus_itg_cd' 컬럼의 빈 값을 '10001'로 대체합\n",
    "# inplace=True로 설정\n",
    "\n"
   ]
  },
  {
   "cell_type": "code",
   "execution_count": null,
   "metadata": {},
   "outputs": [],
   "source": [
    "# 여기에 답안코드를 작성하세요.\n",
    "# 'cont_sttus_itg_cd' 컬럼에서 NULL 값 개수 확인\n"
   ]
  },
  {
   "cell_type": "markdown",
   "metadata": {},
   "source": [
    "#####\n",
    "**'cust_dtl_ctg_itg_cd'의 null 값을 최빈값(mode)으로 변경하세요</font>**"
   ]
  },
  {
   "cell_type": "code",
   "execution_count": null,
   "metadata": {},
   "outputs": [],
   "source": [
    "# 여기에 답안코드를 작성하세요.\n",
    "# 'cust_dtl_ctg_itg_cd' 컬럼에서 NULL 값 개수 계산\n"
   ]
  },
  {
   "cell_type": "code",
   "execution_count": null,
   "metadata": {},
   "outputs": [],
   "source": [
    "# 여기에 답안코드를 작성하세요.\n",
    "# 'cust_dtl_ctg_itg_cd' 컬럼의 각 고유 값들의 빈도를 계산"
   ]
  },
  {
   "cell_type": "code",
   "execution_count": null,
   "metadata": {},
   "outputs": [],
   "source": [
    "# 여기에 답안코드를 작성하세요.\n",
    "# 'cust_dtl_ctg_itg_cd' 컬럼의 빈 값을 '10001'로 대체합\n",
    "# inplace=True로 설정"
   ]
  },
  {
   "cell_type": "code",
   "execution_count": null,
   "metadata": {},
   "outputs": [],
   "source": [
    "# 여기에 답안코드를 작성하세요.\n",
    "# 'cust_dtl_ctg_itg_cd' 컬럼에서 NULL 값 개수 확인"
   ]
  },
  {
   "cell_type": "markdown",
   "metadata": {},
   "source": [
    "<br>"
   ]
  },
  {
   "cell_type": "markdown",
   "metadata": {},
   "source": [
    "## **<span style=\"color:black\">라벨 인코딩, 원핫 인코딩</span>**"
   ]
  },
  {
   "cell_type": "markdown",
   "metadata": {},
   "source": [
    "#####\n",
    "**컬럼 타입 object를 별도 dataframe에 저장하고 cust_clas_itg_cd 컬럼에 대해 LabelEncoder를 적용해보세요.</font>**"
   ]
  },
  {
   "cell_type": "code",
   "execution_count": null,
   "metadata": {},
   "outputs": [],
   "source": [
    "# 컬럼 타입 Ojbect 선택\n",
    "# 'df1'에서 문자열(object) 데이터 타입을 가진 열들을 선택하여 'cat_cols'라는 변수에 저장\n"
   ]
  },
  {
   "cell_type": "code",
   "execution_count": null,
   "metadata": {},
   "outputs": [],
   "source": [
    "# cat_cols 앞행 확인\n",
    "\n"
   ]
  },
  {
   "cell_type": "code",
   "execution_count": null,
   "metadata": {},
   "outputs": [],
   "source": [
    "# scikit-learn의 LabelEncoder를 임포트하세요.\n",
    "# LabelEncoder 객체를 초기화하고 le 변수에 저장\n",
    "# cat_cols 데이터프레임에서 'cust_clas_itg_cd' 열의 범주형 데이터를 숫자로 인코딩하고, 그 결과를 'le_cust_clas_itg_cd' 열에 저장\n",
    "\n"
   ]
  },
  {
   "cell_type": "code",
   "execution_count": null,
   "metadata": {
    "tags": []
   },
   "outputs": [],
   "source": [
    "# cat_cols 앞행 확인\n",
    "\n"
   ]
  },
  {
   "cell_type": "markdown",
   "metadata": {},
   "source": [
    "**<br>\n",
    "<font color=blue>문제8. 범주형 컬럼(cat_columns)에 대해서 One-Hot-Encoding될 수 있도록 Pandas의 get_dummies 함수를 적용하세요</font>**\n",
    "**<br>\n",
    "<font color=blue>원-핫인코딩으로 아래 조건에 해당하는 컬럼 데이터를 변환하세요.</font>**\n",
    "+ 범주형 컬럼을 찾아 cat_columns에 저장하세요\n",
    "+ Pandas의 get_dummies 함수 사용\n",
    "+ 대상 데이터프레임 : df1\n",
    "+ columns=cat_columns\n",
    "+ drop_first=True\n",
    "+ 해당 전처리가 반영된 결과를 'df1' DataFrame에 저장해 주세요."
   ]
  },
  {
   "cell_type": "code",
   "execution_count": null,
   "metadata": {},
   "outputs": [],
   "source": [
    "# 여기에 답안코드를 작성하세요.\n",
    "\n",
    "\n"
   ]
  },
  {
   "cell_type": "code",
   "execution_count": null,
   "metadata": {},
   "outputs": [],
   "source": [
    "# 아래와 같이 범주형 컬럼에 대해 One-Hot-Encoding 된 컬럼 확인\n",
    "\n"
   ]
  },
  {
   "cell_type": "markdown",
   "metadata": {},
   "source": [
    "## **<span style=\"color:black\">x,y 데이터 분리</span>**"
   ]
  },
  {
   "cell_type": "code",
   "execution_count": null,
   "metadata": {},
   "outputs": [],
   "source": [
    "# df1 앞행 확인\n",
    "\n"
   ]
  },
  {
   "cell_type": "markdown",
   "metadata": {},
   "source": [
    "**<br>\n",
    "<font color=blue>문제9. X, y 값을 가지고 8:2 비율로 Train , Test Dataset으로 나누려고 합니다. 아래 조건에 따라 훈련데이터셋과 테스트데이터셋으로 분리하세요.</font>**\n",
    "+ 대상 데이터프레임 : df1\n",
    "+ 훈련 데이터셋 label : y_train, 훈련 데이터셋 Feature : X_train\n",
    "+ 테스트 데이터셋 label : y_test, 테스트 데이터셋 Feature : X_test\n",
    "+ X, y, test_size=0.2, stratify=y, random_state=0\n",
    "+ 사이킷런 train_test_split 함수 사용"
   ]
  },
  {
   "cell_type": "code",
   "execution_count": null,
   "metadata": {},
   "outputs": [],
   "source": [
    "# 아래 코드를 실행하세요.\n",
    "\n",
    "# 사이킷런 train_test_split 함수 임포트\n",
    "# 'df1' DataFrame의 drop 함수 사용\n",
    "# 옵션 : columns=['trm_yn_Y'], DataFrame 값을 저장하기 위해 values 사용\n",
    "# 'trm_yn_Y' 열을 제외한 모든 열을 포함하는 데이터프레임 'X' 생성\n",
    "# 'trm_yn_Y' 열을 선택하여 'y'에 저장\n",
    "\n"
   ]
  },
  {
   "cell_type": "code",
   "execution_count": null,
   "metadata": {
    "tags": []
   },
   "outputs": [],
   "source": [
    "# 여기에 답안코드를 작성하세요.\n",
    "# 인자 : X, y, test_size=0.2, stratify=y, random_state=0\n",
    "# 결과 : X_train, X_test, y_train, y_test \n",
    "\n"
   ]
  },
  {
   "cell_type": "markdown",
   "metadata": {},
   "source": [
    "<br>"
   ]
  },
  {
   "cell_type": "markdown",
   "metadata": {},
   "source": [
    "## **<span style=\"color:black\">데이터 정규분포화, 표준화</span>**"
   ]
  },
  {
   "cell_type": "markdown",
   "metadata": {},
   "source": [
    "**<br>\n",
    "<font color=blue>문제10. 사이킷런의 MinMaxScaler 함수를 정의하고 mms 변수에 저장하세요. 훈련데이터셋은 정규분포화(fit_transform)하고 테스트데이터셋은 표준화(transform)하세요.</font>**\n",
    "+ 사이킷런의 MinMaxScaler() 함수 사용, 임포트하세요.\n",
    "+ MinMaxScaler 객체를 초기화하고 mms 변수에 저장\n",
    "+ 훈련 데이터 'X_train'을 최소-최대 스케일링하여 변환, fit_transform 메서드 적용\n",
    "+ 테스트 데이터 'X_test'를 훈련 데이터에 맞춰 스케일링, transform 메서드 적용"
   ]
  },
  {
   "cell_type": "code",
   "execution_count": null,
   "metadata": {},
   "outputs": [],
   "source": [
    "# 여기에 답안코드를 작성하세요.\n",
    "\n",
    "\n"
   ]
  },
  {
   "cell_type": "code",
   "execution_count": null,
   "metadata": {},
   "outputs": [],
   "source": [
    "# 아래 코드를 실행하세요.\n",
    "# voc_prod_sbt_id 컬럼의 값이 1보다 작은 숫자인 것 확인\n",
    "\n",
    "pd.DataFrame(X_train[:, 0], columns=['voc_prod_sbt_id']).head()\n"
   ]
  },
  {
   "cell_type": "markdown",
   "metadata": {},
   "source": [
    "## **<span style=\"color:black\">머신러닝 모델링 & 모델 성능평가 및 그래프 출력</span>**"
   ]
  },
  {
   "cell_type": "markdown",
   "metadata": {},
   "source": [
    "### 로지스틱 회귀 (LogisticRegression, 분류)"
   ]
  },
  {
   "cell_type": "code",
   "execution_count": null,
   "metadata": {},
   "outputs": [],
   "source": [
    "# 아래 코드를 실행하세요.\n",
    "\n",
    "from sklearn.linear_model import LogisticRegression\n",
    "from sklearn.metrics import confusion_matrix \n",
    "from sklearn.metrics import accuracy_score, precision_score, recall_score, f1_score\n",
    "from sklearn.metrics import classification_report"
   ]
  },
  {
   "cell_type": "markdown",
   "metadata": {},
   "source": [
    "**<br>\n",
    "<font color=blue>문제11. LogisticRegression 모델을 만들고 학습을 진행하세요.</font>**\n",
    "+ 규제강도C : 1.0으로 설정\n",
    "+ 계산에 사용할 작업수 max_iter : 2000으로 설정\n",
    "+ fit을 활용해 모델을 학습해주세요. 학습 시 훈련데이터 셋을 활용해주세요.\n",
    "+ 모델의 테스트 데이터 X_test에 대한 예측 정확도를 계산해주세요."
   ]
  },
  {
   "cell_type": "code",
   "execution_count": null,
   "metadata": {},
   "outputs": [],
   "source": [
    "# 여기에 답안코드를 작성하세요.\n",
    "\n"
   ]
  },
  {
   "cell_type": "markdown",
   "metadata": {},
   "source": [
    "**<br>\n",
    "<font color=blue>문제12. 위 LogisticRegression 모델의 성능을 평가하려고 합니다. y값을 예측하여 confusion matrix를 구하고 heatmap 그래프로 시각화하세요.</font>**\n",
    "**<br>\n",
    "<font color=blue> 그리고 Scikit-learn의 classification_report를 활용하여 성능을 출력하세요.</font>**\n",
    "+ X_test에 대한 예측 수행, 'y_pred'에 결과를 저장하세요.\n",
    "+ 'y_test'와 'y_pred'를 비교하여 confusion_matrix 생성, 'cf_matrix' 변수에 저장하세요.\n",
    "+ heatmap 옵션 : annot=True, fmt='d'\n",
    "+  'y_test'와 'y_pred'를 비교하여 성능지표 출력"
   ]
  },
  {
   "cell_type": "code",
   "execution_count": null,
   "metadata": {},
   "outputs": [],
   "source": [
    "# 여기에 답안코드를 작성하세요.\n",
    "\n"
   ]
  },
  {
   "cell_type": "markdown",
   "metadata": {},
   "source": [
    "#####\n",
    "**DecisionTree 모델을 만들고 학습을 진행하세요.(단, max_depth는 10, random_state는 42로 설정)</font>**"
   ]
  },
  {
   "cell_type": "code",
   "execution_count": null,
   "metadata": {},
   "outputs": [],
   "source": [
    "\n"
   ]
  },
  {
   "cell_type": "markdown",
   "metadata": {},
   "source": [
    "#####\n",
    "**RandomForest 모델을 만들고 학습을 진행하세요. (단, n_estimators=100, random_state=42로 설정)</font>**"
   ]
  },
  {
   "cell_type": "code",
   "execution_count": null,
   "metadata": {},
   "outputs": [],
   "source": [
    "\n"
   ]
  },
  {
   "cell_type": "markdown",
   "metadata": {},
   "source": [
    "#####\n",
    "**XGBoost 모델을 만들고 학습을 진행하세요. (단, n_estimators=5 설정)</font>**"
   ]
  },
  {
   "cell_type": "code",
   "execution_count": null,
   "metadata": {},
   "outputs": [],
   "source": [
    "# 아래 코드를 실행하세요.\n",
    "\n",
    "!pip install xgboost"
   ]
  },
  {
   "cell_type": "code",
   "execution_count": null,
   "metadata": {},
   "outputs": [],
   "source": [
    "\n",
    "\n"
   ]
  },
  {
   "cell_type": "code",
   "execution_count": null,
   "metadata": {},
   "outputs": [],
   "source": [
    "# X_test에 대한 예측 결과를 y_pred에 저장하세요\n",
    "# y_test와 y_pred간의 confusion matrix를 출력하세요\n",
    "\n"
   ]
  },
  {
   "cell_type": "markdown",
   "metadata": {},
   "source": [
    "#####\n",
    "**Light GBM 모델을 만들고 학습을 진행하세요. (단, n_estimators=3 설정)</font>**"
   ]
  },
  {
   "cell_type": "code",
   "execution_count": null,
   "metadata": {},
   "outputs": [],
   "source": [
    "# 아래 코드를 실행하세요.\n",
    "\n",
    "!pip install lightgbm\n"
   ]
  },
  {
   "cell_type": "code",
   "execution_count": null,
   "metadata": {},
   "outputs": [],
   "source": [
    "# lightgbm 모델을 만들고 학습을 진행하세요 n_estimators = 3\n",
    "\n"
   ]
  },
  {
   "cell_type": "code",
   "execution_count": null,
   "metadata": {},
   "outputs": [],
   "source": [
    "# X_test에 대한 예측 결과를 y_pred에 저장하세요\n",
    "# y_test와 y_pred간의 confusion matrix를 출력하세요\n",
    "\n"
   ]
  },
  {
   "cell_type": "markdown",
   "metadata": {},
   "source": [
    "<br>"
   ]
  },
  {
   "cell_type": "markdown",
   "metadata": {},
   "source": [
    "## **<span style=\"color:black\">딥러닝 모델링 & 모델 성능평가 및 그래프 출력</span>**"
   ]
  },
  {
   "cell_type": "markdown",
   "metadata": {},
   "source": [
    "<font color=red>**다음 문항을 풀기 전에**</font> **아래 주어진 코드들을 실행해주세요.</font>**"
   ]
  },
  {
   "cell_type": "code",
   "execution_count": null,
   "metadata": {},
   "outputs": [],
   "source": [
    "# 다음 문항을 풀기 전에 아래 코드를 실행하세요.\n",
    "\n",
    "import tensorflow as tf\n",
    "from tensorflow import keras\n",
    "\n",
    "from tensorflow.keras.models import Sequential, load_model\n",
    "from tensorflow.keras.layers import Dense, Dropout\n",
    "from tensorflow.keras.callbacks import EarlyStopping, ModelCheckpoint\n",
    "from tensorflow.keras.utils import to_categorical"
   ]
  },
  {
   "cell_type": "code",
   "execution_count": null,
   "metadata": {},
   "outputs": [],
   "source": [
    "# 다음 문항을 풀기 전에 아래 코드를 실행하세요.\n",
    "\n",
    "import absl.logging\n",
    "absl.logging.set_verbosity(absl.logging.ERROR)"
   ]
  },
  {
   "cell_type": "code",
   "execution_count": null,
   "metadata": {},
   "outputs": [],
   "source": [
    "# 하이퍼파라미터 설정 : batch_size = 1024, epochs = 30\n",
    "\n"
   ]
  },
  {
   "cell_type": "code",
   "execution_count": null,
   "metadata": {},
   "outputs": [],
   "source": [
    "# 모델 입력(features) 갯수 확인\n",
    "\n"
   ]
  },
  {
   "cell_type": "code",
   "execution_count": null,
   "metadata": {},
   "outputs": [],
   "source": [
    "# 모델 출력(label) 갯수 확인\n",
    "\n"
   ]
  },
  {
   "cell_type": "markdown",
   "metadata": {},
   "source": [
    "**<br>\n",
    "<font color=blue>문제13. 아래 가이드대로 해지여부를 분류하는 딥러닝 모델을 만들려고 합니다. 아래 가이드에 따라 모델링하고 학습을 진행하세요.</font>**"
   ]
  },
  {
   "cell_type": "markdown",
   "metadata": {},
   "source": [
    "+ Tensoflow의 Sequential() 함수를 사용하여 model로 저장하세요.\n",
    "+ 첫번째 Hidden Layer : unit 64, activation='relu', input_shape=(34,) 입력\n",
    "+ 두번째 Hidden Layer : unit 32 , activation='relu'\n",
    "+ 세번째 Hidden Layer : unit 16 , activation='relu'\n",
    "+ 각 Hidden Layer 마다 Dropout 0.2 비율로 되도록 하세요.\n",
    "+ 마지막 Dense에서 'sigmoid' 설정하세요. (0.5 이하이면 정상, 아니면 해지)\n",
    "+ 옵티마이저는 adam, 손실함수는 binary_crossentropy를 사용하세요.\n",
    "+ EarlyStopping 콜백으로 정해진 epoch 동안 모니터링 지표가 향상되지 않을 때 훈련을 중지하도록 설정하세요 (모니터링 지표 : val_loss)\n",
    "+ ModelCheckpoint 콜백으로 validation performance가 좋은 모델을 'my_checkpoint.ckpt' 파일로 저장하세요.(모니터링 지표 : val_loss)\n",
    "+ EarlyStopping 객체는 es 변수에 ModelCheckpoint 객체는 mc 변수에 저장해서 활용해 주세요.\n",
    "+ 학습정보는 history 변수에 저장하세요."
   ]
  },
  {
   "cell_type": "code",
   "execution_count": null,
   "metadata": {},
   "outputs": [],
   "source": [
    "# 여기에 답안코드를 작성하세요.\n",
    "\n"
   ]
  },
  {
   "cell_type": "markdown",
   "metadata": {},
   "source": [
    "**<br>\n",
    "<font color=blue>문제14. 딥러닝 모델의 성능을 평가하려고 합니다. Matplotlib 라이브러리 활용해서 학습 손실과 검증 손실을 그래프로 표시하세요.</font>**\n",
    "**<br>\n",
    "<font color=blue>1개의 그래프에 학습 손실과 검증 손실 2가지를 모두 표시하세요.</font>**\n",
    "**<br>\n",
    "<font color=blue>x축에는 'Epochs', y축에는 'Loss'라고 표시하세요. 범례는 'Train Loss'와 'Validation Loss'로 표시하세요.</font>**"
   ]
  },
  {
   "cell_type": "code",
   "execution_count": null,
   "metadata": {},
   "outputs": [],
   "source": [
    "# 여기에 답안코드를 작성하세요.\n",
    "\n"
   ]
  },
  {
   "cell_type": "markdown",
   "metadata": {},
   "source": [
    "####\n",
    "### 1번부터 14번까지 모든 문제를 풀었습니다. 수고 많으셨습니다.\n",
    "\n",
    "### 향후 정답과 비교하며 반복해서 연습해보시기 바랍니다.\n",
    "\n",
    "### 이제 Wrap-up을 위해 전체 발표모임으로 모여주세요!"
   ]
  }
 ],
 "metadata": {
  "kernelspec": {
   "display_name": "Python 3 (ipykernel)",
   "language": "python",
   "name": "python3"
  },
  "language_info": {
   "codemirror_mode": {
    "name": "ipython",
    "version": 3
   },
   "file_extension": ".py",
   "mimetype": "text/x-python",
   "name": "python",
   "nbconvert_exporter": "python",
   "pygments_lexer": "ipython3",
   "version": "3.9.13"
  }
 },
 "nbformat": 4,
 "nbformat_minor": 4
}
