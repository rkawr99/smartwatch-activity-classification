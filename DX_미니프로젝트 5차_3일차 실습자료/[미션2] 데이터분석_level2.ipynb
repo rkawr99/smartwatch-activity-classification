{
 "cells": [
  {
   "cell_type": "markdown",
   "id": "c4050488-1a27-41c1-8005-306d2d323468",
   "metadata": {},
   "source": [
    "# AIVLE스쿨 4기 DX트랙 5차 미니프로젝트 \n",
    "## [미션#2] 중증질환 예측 데이터 분석"
   ]
  },
  {
   "cell_type": "markdown",
   "id": "2f0a5f35-f316-4fe9-8fc2-a93727ac4a40",
   "metadata": {},
   "source": [
    " [주의]\n",
    " * 본 자료는 임의로 가공된 응급 출동 데이터입니다. 의료적 소견이 전혀 없는 자료임을 참고해 주세요\n",
    " * 임의로 가공된 증상 및 중증 질환 결과를 할용하여, 증상에 따른 환자의 중증 질환을 예측하고자 합니다.\n"
   ]
  },
  {
   "cell_type": "markdown",
   "id": "793bc074-3992-44cc-992e-714e7560f0a7",
   "metadata": {},
   "source": [
    "[미션] \n",
    " * 증상 데이터 (Features) 와 중증 질환(Target)의 특징 파악 (단변량 분석)\n",
    " * 증상 데이터 (Features) 와 중증 질환(Target) 간의 관계 분석 (이변량 분석)\n",
    " * AI 모델링을 위한 데이터 전처리 "
   ]
  },
  {
   "cell_type": "code",
   "execution_count": null,
   "id": "5f22b044",
   "metadata": {},
   "outputs": [],
   "source": [
    "# 라이브러리 불러오기 \n",
    "\n",
    "import pandas as pd\n",
    "import numpy as np\n",
    "\n",
    "import matplotlib.pyplot as plt\n",
    "import seaborn as sns\n",
    "\n",
    "import scipy.stats as spst\n",
    "\n",
    "plt.rcParams['font.family'] = 'Malgun Gothic'"
   ]
  },
  {
   "cell_type": "code",
   "execution_count": null,
   "id": "f954f5fb",
   "metadata": {},
   "outputs": [],
   "source": [
    "# 응급 출동 데이터 불러오기\n",
    "# 파일명 119_emergency_dispatch.csv, encoding='cp949'\n",
    "\n",
    "data = \n",
    "data.head()"
   ]
  },
  {
   "cell_type": "markdown",
   "id": "073b3f37-304f-4599-9be2-281283535f4a",
   "metadata": {},
   "source": [
    "### 1) 데이터셋(data)의 기초 정보 확인하기"
   ]
  },
  {
   "cell_type": "code",
   "execution_count": null,
   "id": "5a9d42fc-202d-4008-a6e2-e6a73ba7b007",
   "metadata": {},
   "outputs": [],
   "source": [
    "# data 데이터프레임의 행, 열 개수 확인\n"
   ]
  },
  {
   "cell_type": "code",
   "execution_count": null,
   "id": "d235a1b0-efc1-4165-b0c6-ea12691f7f63",
   "metadata": {},
   "outputs": [],
   "source": [
    "# data 데이터프레임의 컬럼명, 데이터 개수, 타입 정보 확인\n"
   ]
  },
  {
   "cell_type": "code",
   "execution_count": null,
   "id": "c6ff9d10-8d0f-4168-bf4d-915c8f05de0b",
   "metadata": {},
   "outputs": [],
   "source": [
    "# data 데이터프레임의 하위 3개 행 확인\n"
   ]
  },
  {
   "cell_type": "code",
   "execution_count": null,
   "id": "41154c47-0201-4ff5-8389-bd386cf493dc",
   "metadata": {},
   "outputs": [],
   "source": [
    "# data 데이터프레임에 결측치 확인 isna(), sum()\n",
    "# 결측치가 있는 경우, 삭제하기\n",
    "\n"
   ]
  },
  {
   "cell_type": "markdown",
   "id": "c8a00223-5483-42be-896d-b8989ec8932e",
   "metadata": {},
   "source": [
    "### 2) 데이터 전처리"
   ]
  },
  {
   "cell_type": "markdown",
   "id": "971f3cbc-3db1-4879-b724-6964c0f51e71",
   "metadata": {},
   "source": [
    "* 기존 컬럼을 이용하여 새로운 컬럼을 생성\n",
    "* 추가해야 할 컬럼 내용\n",
    "  * 연령구분 : 나이 컬럼을 활용하여 [신생아, 10대미만, 10대, 20대~ 80대, 90이상으로 구분]\n",
    "  * 출동월 : 출동일시 컬럼을 활용하여 출동월을 추출\n",
    "  * 발열 : 체온 컬럼을 활용하여, 37도 이상인 경우 1, 이하인 경우 0으로 구분\n",
    "  * 고혈압 : 수축기 혈압 컬럼을 활용하여 140이상인 경우 1, 그렇지 않으면 0으로 구분\n",
    "  * 저혈압 : 수축기 혈압 컬럼을 활용하여 90이하인 경우 1, 그렇지 않으면 0으로 구분\n",
    "  "
   ]
  },
  {
   "cell_type": "code",
   "execution_count": null,
   "id": "6ec3f5a0-cbb4-4eb2-b6eb-1fdec89680e1",
   "metadata": {},
   "outputs": [],
   "source": [
    "# 1) 연령구분 정보 구하기\n",
    "# '나이' 컬럼을 활용하여 [신생아, 10대미만, 10대, 20대~ 80대, 90이상]으로 구분\n",
    "\n",
    "data['연령구분'] = \n",
    "data.head()"
   ]
  },
  {
   "cell_type": "code",
   "execution_count": null,
   "id": "c825ff8d-e163-4331-a26f-d1c344381a07",
   "metadata": {},
   "outputs": [],
   "source": [
    "# '연령구분' 컬럼의 고유한 값(범주)별 건수 확인하기 : value_counts()\n",
    "\n"
   ]
  },
  {
   "cell_type": "code",
   "execution_count": null,
   "id": "db64e84e-de42-4269-b22c-5e48a533605b",
   "metadata": {},
   "outputs": [],
   "source": [
    "# 2) 출동월 정보 구하기\n",
    "# 출동일자 컬럼에서 출동월 정보를 추출하기\n",
    "\n",
    "data['출동월'] = \n",
    "data.head()\n"
   ]
  },
  {
   "cell_type": "code",
   "execution_count": null,
   "id": "a77573e2-afa8-4ea4-aa2f-41b0efd5f158",
   "metadata": {},
   "outputs": [],
   "source": [
    "# 3) 발열 정보 구하기\n",
    "# 체온이 37도 이상이면 1, 그렇지 않으면 0\n",
    "\n",
    "data['발열'] = \n",
    "data.head()"
   ]
  },
  {
   "cell_type": "code",
   "execution_count": null,
   "id": "32fc17d1-7578-4968-b88a-66127ea82e12",
   "metadata": {},
   "outputs": [],
   "source": [
    "# 4) 고혈압 정보 구하기\n",
    "# 수축기 혈압 컬럼을 활용하여 140이상인 경우 1, 그렇지 않으면 0으로 구분\n",
    "\n",
    "data['고혈압'] = \n",
    "data.head()"
   ]
  },
  {
   "cell_type": "code",
   "execution_count": null,
   "id": "01f998d6-b788-4f54-8797-f4c8bddf8970",
   "metadata": {},
   "outputs": [],
   "source": [
    "# 5) 저혈압 정보 구하기\n",
    "# 수축기 혈압이 90이하인 경우 1, 그렇지 않으면 0\n",
    "\n",
    "data['저혈압'] =\n",
    "data.head()"
   ]
  },
  {
   "cell_type": "markdown",
   "id": "050014a7",
   "metadata": {},
   "source": [
    "### 3) 단변량 분석 - 범주형 데이터"
   ]
  },
  {
   "cell_type": "markdown",
   "id": "ddf137da",
   "metadata": {},
   "source": [
    "* 대상 : 중증질환/연령구분"
   ]
  },
  {
   "cell_type": "code",
   "execution_count": null,
   "id": "9ac96c13-fa1f-44d9-ac5a-2bb80519d8e1",
   "metadata": {},
   "outputs": [],
   "source": [
    "# 중증질환 통계\n",
    "# '중증질환' 컬럼의 고유한 값(범주) 별 개수 카운트\n",
    "\n"
   ]
  },
  {
   "cell_type": "code",
   "execution_count": null,
   "id": "4df97b5d",
   "metadata": {},
   "outputs": [],
   "source": [
    "# seaborn 라이브러리의 countplot 함수을 사용하여 '중증질환' 컬럼의 범주별 개수 시각화 \n",
    "\n"
   ]
  },
  {
   "cell_type": "markdown",
   "id": "aeea8f4c-e352-4ca2-94b2-a437f29a14c6",
   "metadata": {},
   "source": [
    "* 중증 질환 중 [심근경색, 복부손상, 뇌경색, 뇌출혈]에 대한 자료만 추출하여 분석"
   ]
  },
  {
   "cell_type": "code",
   "execution_count": null,
   "id": "251ee900-fa70-4cc4-bbf8-6203e8d5b206",
   "metadata": {},
   "outputs": [],
   "source": [
    "# data 데이터프레임에서 '중증질환'값이 ['심근경색', '복부손상', '뇌경색', '뇌출혈'] 에 포함되는 경우만을 추출하여 desease 변수에 저장\n",
    "# 이후 desease 데이터 프레임을 활용하여 분석\n",
    "\n",
    "desease = "
   ]
  },
  {
   "cell_type": "code",
   "execution_count": null,
   "id": "8ef870ff-8b86-4aec-bf89-ce4e2851f16f",
   "metadata": {},
   "outputs": [],
   "source": [
    "# desease의 '중증질환' 컬럼의 고유한 값(범주) 별 개수 카운트\n",
    "\n",
    "desease['중증질환']"
   ]
  },
  {
   "cell_type": "code",
   "execution_count": null,
   "id": "8f6a0e71-2d70-41db-8385-49290b0eaf36",
   "metadata": {},
   "outputs": [],
   "source": [
    "# seaborn 라이브러리의 countplot 함수을 사용하여 desease 데이터프레임의 '중증질환' 컬럼의 범주별 개수 시각화 \n",
    "\n"
   ]
  },
  {
   "cell_type": "code",
   "execution_count": null,
   "id": "3508128c-c4bf-44a9-9124-6d670ada3b65",
   "metadata": {},
   "outputs": [],
   "source": [
    "# 질문) 어느 중증질환에 출동 건수가 많았나요?\n",
    "# 질문) 중증질환별 출동 건수에 차이가 있나요?\n",
    "\n"
   ]
  },
  {
   "cell_type": "code",
   "execution_count": null,
   "id": "e9ecbb02",
   "metadata": {},
   "outputs": [],
   "source": [
    "# '연령구분' 컬럼의 고유한 값(범주) 별 개수 카운트\n"
   ]
  },
  {
   "cell_type": "code",
   "execution_count": null,
   "id": "6dc6a314",
   "metadata": {},
   "outputs": [],
   "source": [
    "# seaborn 라이브러리의 countplot 함수을 사용하여 desease 데이터프레임의 '연령구분' 컬럼의 범주별 개수 시각화 \n",
    "\n"
   ]
  },
  {
   "cell_type": "code",
   "execution_count": null,
   "id": "ce974eed-ff49-4d48-98b5-6621b0d82b2a",
   "metadata": {},
   "outputs": [],
   "source": [
    "#질문) 어느 연령대가 가장 많은가요?\n",
    "#질문) 연령대별로 출동 건수의 차이가 있나요?\n",
    "\n",
    "\n"
   ]
  },
  {
   "cell_type": "markdown",
   "id": "035edd66",
   "metadata": {},
   "source": [
    "### 4) 단변량 분석 - 숫자형 데이터\n",
    "* 대상 : 체온"
   ]
  },
  {
   "cell_type": "code",
   "execution_count": null,
   "id": "9a96f2aa",
   "metadata": {},
   "outputs": [],
   "source": [
    "# 체온 컬럼에 대한 기초 통계 정보 확인하기, describe()\n",
    "\n"
   ]
  },
  {
   "cell_type": "code",
   "execution_count": null,
   "id": "66350a0c",
   "metadata": {},
   "outputs": [],
   "source": [
    "# seaborn의 boxplot을 이용하여 '체온' 컬럼의 분포를 시각화\n",
    "\n"
   ]
  },
  {
   "cell_type": "code",
   "execution_count": null,
   "id": "bd3101f8-2734-4c27-ac06-5283b059389d",
   "metadata": {},
   "outputs": [],
   "source": [
    "# 질문) 체온 컬럼의 데이터 분포는 어떠한가?\n",
    "# 질문) 체온 컬럼의 데이터에 이상치가 존재하는가? \n",
    "# 질문) 이상치 데이터는 제거해야 하는가? 아니면 유지해야 하는가?\n",
    "\n"
   ]
  },
  {
   "cell_type": "markdown",
   "id": "e47ce5bc-db30-4859-919c-63e1d0c7b04d",
   "metadata": {},
   "source": [
    "### 5) 이변량 분석 - 범주 vs 범주"
   ]
  },
  {
   "cell_type": "markdown",
   "id": "70763924-309a-49eb-a040-5904d4daf0d6",
   "metadata": {},
   "source": [
    " * Target : 중증 질환\n",
    " * Feature : 성별, 연령구분, 출동월, 증상 리스트"
   ]
  },
  {
   "cell_type": "code",
   "execution_count": null,
   "id": "43959f34-0a4d-4085-bc2f-b3ad54a26931",
   "metadata": {},
   "outputs": [],
   "source": [
    "# 1) Feature : 성별, Target : 중증 질환\n",
    "# 가설 수립\n",
    "# 귀무 가설 : 성별로 중증 질환에 차이가 없다\n",
    "# 대립 가설 : 성별로 중증 질환에 차이가 있다."
   ]
  },
  {
   "cell_type": "code",
   "execution_count": null,
   "id": "28f1ef94-cf9b-4541-80dd-75c486cfd3d0",
   "metadata": {},
   "outputs": [],
   "source": [
    "# pandas의 crosstab을 이용하여 feature, target 범주값에 대한 교차 빈도 확인\n",
    "# 변수명 : cross_sex\n",
    "\n",
    "\n",
    "# 통계 검증 : 카이제곱 검증 (chi2_contingency) \n",
    "# 상관계수와 p-value 확인\n",
    "\n"
   ]
  },
  {
   "cell_type": "code",
   "execution_count": null,
   "id": "c119c7ee-3611-4132-ad58-5d12796d61b2",
   "metadata": {},
   "outputs": [],
   "source": [
    "# 2) Feature : 연령 구분, Target : 중증 질환\n",
    "# 가설 수립\n",
    "# 귀무 가설 : 연령 구분대별로 중증 질환에 차이가 없다\n",
    "# 대립 가설 : 연령 구분대별로 중증 질환에 차이가 있다."
   ]
  },
  {
   "cell_type": "code",
   "execution_count": null,
   "id": "ef2f545f-7ade-4d3a-ad46-2a22498c737e",
   "metadata": {},
   "outputs": [],
   "source": [
    "# pandas의 crosstab을 이용하여 feature, target 범주값에 대한 교차 빈도 확인\n",
    "# 변수명 : cross_age\n",
    "\n",
    "\n",
    "\n",
    "# 통계 검증 : 카이제곱 검증 (chi2_contingency) \n",
    "# 상관계수와 p-value 확인\n",
    "\n"
   ]
  },
  {
   "cell_type": "code",
   "execution_count": null,
   "id": "d390003c-96ca-4f2c-924d-ad20b46d7706",
   "metadata": {},
   "outputs": [],
   "source": [
    "# 3) Feature : 출동월, Target : 중증 질환\n",
    "# 가설 수립\n",
    "# 귀무 가설 : 출동월별로 중증 질환에 차이가 없다\n",
    "# 대립 가설 : 출동월별로 중증 질환에 차이가 있다."
   ]
  },
  {
   "cell_type": "code",
   "execution_count": null,
   "id": "c2974a8e-a38f-448e-b468-ccea49b6d0ff",
   "metadata": {},
   "outputs": [],
   "source": [
    "# pandas의 crosstab을 이용하여 feature, target 범주값에 대한 교차 빈도 확인\n",
    "# 변수명 : cross_month\n",
    "\n",
    "\n",
    "\n",
    "# 통계 검증 : 카이제곱 검증 (chi2_contingency) \n",
    "# 상관계수와 p-value 확인\n",
    "\n"
   ]
  },
  {
   "cell_type": "code",
   "execution_count": null,
   "id": "e3e82cdc-14d6-45e7-93d7-bba6b66b9b50",
   "metadata": {},
   "outputs": [],
   "source": [
    "# 4) Feature : 증상리스트, Target : 중증 질환\n",
    "# 가설 수립\n",
    "# 귀무 가설 : 각 증상별로 중증 질환에 차이가 없다\n",
    "# 대립 가설 : 각 증상별로 중증 질환에 차이가 있다."
   ]
  },
  {
   "cell_type": "code",
   "execution_count": null,
   "id": "e0846e98-2046-4c9f-a5cd-388522553e56",
   "metadata": {},
   "outputs": [],
   "source": [
    "# 증상 리스트 \n",
    "\n",
    "symptom = ['호흡 곤란', '간헐성 경련', '설사', '기침', '출혈', '통증', '만지면 아프다', '무감각', '마비', '현기증', '졸도',\n",
    "       '말이 어눌해졌다', '시력이 흐려짐', '발열', '고혈압', '저혈압']"
   ]
  },
  {
   "cell_type": "code",
   "execution_count": null,
   "id": "ac3eaab2-8fd5-4c5f-b550-af4350892fcb",
   "metadata": {},
   "outputs": [],
   "source": [
    "# for문을 이용하여 각 증상과 중증질환과의 카이제곱 검증 시행\n",
    "\n",
    "for  :\n",
    "    # pandas의 crosstab을 이용하여 feature, target 범주값에 대한 교차 빈도 확인\n",
    "    # 변수명 : cross_sym\n",
    "\n",
    "    \n",
    "\n",
    "    # 통계 검증 : 카이제곱 검증 (chi2_contingency) \n",
    "    # 상관계수와 p-value 확인\n",
    "\n",
    "   \n",
    "\n",
    "    ## P-value (chi2_sym[1]) 값이 0.05보다 크면 귀무가설 채택, 0.05보다 작으면 대립가설 채택\n",
    "    \n",
    "        print(\"귀무가설 채택\", , \"에 따라 중증 질환에 차이가 없다. P-value \", )\n",
    "    \n",
    "    "
   ]
  },
  {
   "cell_type": "code",
   "execution_count": null,
   "id": "926399d9-de45-4acf-8426-f7ce52cf36ee",
   "metadata": {},
   "outputs": [],
   "source": [
    "# 질문) 범주형 vc 범주형 이변량 분석 결과를 정리하세요\n",
    "\n"
   ]
  },
  {
   "cell_type": "markdown",
   "id": "f2410a72",
   "metadata": {},
   "source": [
    "### 6) 이변량 분석 - 숫자형 vc 범주형"
   ]
  },
  {
   "cell_type": "markdown",
   "id": "5d4baee9-3858-436f-900b-a12d3d4a0a21",
   "metadata": {},
   "source": [
    " * Target : 중증 질환\n",
    " * Feature : 나이, 체온, 수축기 혈압, 이완기 혈압"
   ]
  },
  {
   "cell_type": "code",
   "execution_count": null,
   "id": "caa7e218-6dac-4104-aa07-3765bb753d0b",
   "metadata": {},
   "outputs": [],
   "source": [
    "# 가설 수립\n",
    "# 귀무 가설 : feature에 따라 중증 질환에 차이가 없다\n",
    "# 대립 가설 : feature에 따라 중증 질환에 차이가 있다."
   ]
  },
  {
   "cell_type": "code",
   "execution_count": null,
   "id": "fcfc4f37-a905-4255-9fcf-e9ac68de6b57",
   "metadata": {},
   "outputs": [],
   "source": [
    "# anova 분석 대상 리스트 확인\n",
    "\n",
    "anova_column = ['나이', '체온', '수축기 혈압', '이완기 혈압']\n",
    "\n",
    "# for문을 이용하여 feature 데이터 하나씩 순차적으로 분석하기 \n",
    "# 중증질환별로 feature 데이터를 분리하고, anova 검증 결과를 확인\n",
    "\n",
    "for:\n",
    "    # 중증질환별로 데이터 분리하기\n",
    "\n",
    "\n",
    "    # 통계 검증 : anova검증 (f_oneway)\n",
    "\n",
    "\n",
    "    # p-value 확인하기\n",
    "\n",
    "    "
   ]
  },
  {
   "cell_type": "code",
   "execution_count": null,
   "id": "1fd5c22f-07d1-46d8-8f85-98ca90a87818",
   "metadata": {},
   "outputs": [],
   "source": [
    "# for문을 이용하여 feature 데이터 하나씩 순차적으로 분석하기 \n",
    "# seaborn의 barplot 활용하여 중증질환별 feature값 분포의 차이를 시각화\n",
    "\n",
    "for  :\n"
   ]
  },
  {
   "cell_type": "code",
   "execution_count": null,
   "id": "f70577b0-3bec-4480-be56-565d1078da94",
   "metadata": {},
   "outputs": [],
   "source": [
    "# 질문) 숫자형 vc 범주형 이변량 분석 결과를 정리하세요\n",
    "\n"
   ]
  },
  {
   "cell_type": "markdown",
   "id": "73955abc-a754-45b1-be8f-b9278d7040d9",
   "metadata": {},
   "source": [
    "### 7) 데이터 분석 결과"
   ]
  },
  {
   "cell_type": "code",
   "execution_count": null,
   "id": "c46edb59-ab80-43f9-aeaf-ea90301e83d0",
   "metadata": {},
   "outputs": [],
   "source": [
    "# 질문) 데이터 분석 결과, AI 모델링에 반영할 Feature는 무엇인가요?\n",
    "\n",
    "\n",
    "\n"
   ]
  },
  {
   "cell_type": "markdown",
   "id": "61183a78",
   "metadata": {},
   "source": [
    "### 8) 데이터 전처리 함수 만들기"
   ]
  },
  {
   "cell_type": "markdown",
   "id": "74222ef3",
   "metadata": {},
   "source": [
    " * 함수로 전처리 과정을 정의\n",
    "   * 1. 함수 선언하기\n",
    "   * 2. 데이터 전처리 하기 : 발열, 고혈압, 저혈압\n",
    "   * 3. Y에 Target(중증질환) 값 넣기\n",
    "   * 4. X에 위 분석 결과에서 선택된 Feature들 넣기\n",
    "   * 5. X, Y 반환하기\n",
    " "
   ]
  },
  {
   "cell_type": "code",
   "execution_count": null,
   "id": "e008f1bf",
   "metadata": {},
   "outputs": [],
   "source": [
    "#########################################\n",
    "# 1. 함수 선언하기                       #\n",
    "#########################################\n",
    "# 함수명 : preprocessing\n",
    "# 매개변수 : desease (응급 출동 데이터 중 중증 질환이 ['심근경색', '복부손상', '뇌경색', '뇌출혈']인 데이터프레임)\n",
    "\n",
    "def :\n",
    "\n",
    "    desease = desease.copy()\n",
    "    #########################################\n",
    "    # 2. 데이터 전처리 하기                  #\n",
    "    #########################################\n",
    "    \n",
    "    # '발열' 컬럼 구하기 : 체온이 37도 이상이면 1, 아니면 0\n",
    "\n",
    "\n",
    "    # '고혈압' 칼럼 구하기 : 수축기 혈압이 140 이상이면 1, 아니면 0\n",
    "\n",
    "\n",
    "    # '저혈압' 칼럼 구하기 : 수축기 혈압이 90 이하이면 1, 아니면 0\n",
    "\n",
    "    \n",
    "\n",
    "    #########################################\n",
    "    # 3. X에 선택된 Feature값 넣기           #\n",
    "    #########################################\n",
    "    # X : '중증질환' 및 데이터분석에서 Target에 영향을 주지 않는 칼럼 제외한 나머지\n",
    "\n",
    "    #########################################\n",
    "    # 4. X 반환하기                       #\n",
    "    #########################################\n",
    "\n"
   ]
  },
  {
   "cell_type": "code",
   "execution_count": null,
   "id": "f0c688fc",
   "metadata": {},
   "outputs": [],
   "source": [
    "## 확인하기\n",
    "\n",
    "data = pd.read_csv(\"./119_emergency_dispatch.csv\", encoding=\"cp949\" )\n",
    "desease = data[data['중증질환'].isin(['심근경색', '복부손상', '뇌경색', '뇌출혈'])]\n",
    "\n",
    "X = preprocessing(desease)\n",
    "print(X.shape)\n",
    "X.head()"
   ]
  },
  {
   "cell_type": "markdown",
   "id": "711e1a5e-0cd4-4f9f-a544-167731e938b0",
   "metadata": {},
   "source": [
    "## 미션#2 Clear\n",
    "## 수고하셨습니다!!"
   ]
  }
 ],
 "metadata": {
  "kernelspec": {
   "display_name": "Python 3 (ipykernel)",
   "language": "python",
   "name": "python3"
  },
  "language_info": {
   "codemirror_mode": {
    "name": "ipython",
    "version": 3
   },
   "file_extension": ".py",
   "mimetype": "text/x-python",
   "name": "python",
   "nbconvert_exporter": "python",
   "pygments_lexer": "ipython3",
   "version": "3.11.3"
  },
  "vscode": {
   "interpreter": {
    "hash": "f08154012ddadd8e950e6e9e035c7a7b32c136e7647e9b7c77e02eb723a8bedb"
   }
  }
 },
 "nbformat": 4,
 "nbformat_minor": 5
}
