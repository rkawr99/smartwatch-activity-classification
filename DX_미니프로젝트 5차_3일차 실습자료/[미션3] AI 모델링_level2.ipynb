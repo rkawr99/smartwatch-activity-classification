{
 "cells": [
  {
   "cell_type": "markdown",
   "id": "2fd1695a-8439-4a35-84c8-9970e11b779f",
   "metadata": {},
   "source": [
    "# AIVLE스쿨 4기 DX트랙 5차 미니프로젝트 \n",
    "## [미션#3] 중증질환 예측 모델링"
   ]
  },
  {
   "cell_type": "markdown",
   "id": "38396e52-004b-48b5-95cb-8a29e36130ef",
   "metadata": {},
   "source": [
    "[미션] \n",
    " * Target : 중증질환 (뇌경색, 뇌출혈, 복부손상, 심근경색)\n",
    " * 데이터 분석 결과를 바탕으로 Target에 영향을 주는 Feature 전처리 (함수 정의)\n",
    " * 머신러닝/딥러닝 모델링 후 성능 비교\n",
    " * 최적AI 모델 선정 및 저장\n",
    " * 새로운 출동 이력에 제시된 환자의 증상을 바탕으로 중증 질환 예측 함수 정의"
   ]
  },
  {
   "cell_type": "code",
   "execution_count": null,
   "id": "5f22b044",
   "metadata": {},
   "outputs": [],
   "source": [
    "import pandas as pd\n",
    "import numpy as np\n",
    "\n",
    "import matplotlib.pyplot as plt\n",
    "\n",
    "\n",
    "plt.rcParams['font.family'] = 'Malgun Gothic'"
   ]
  },
  {
   "cell_type": "code",
   "execution_count": null,
   "id": "11e97a5c-ea39-41af-9519-62247a9c2f3e",
   "metadata": {},
   "outputs": [],
   "source": [
    "# 응급 출동 데이터 불러오기\n",
    "# 파일명 : 119_emergency_dispatch.csv, encoding='cp949'\n",
    "# 중증 질환이 ['심근경색', '복부손상', '뇌경색', '뇌출혈']인 데이터만 추출\n",
    "# 데이터 랜덤으로 섞기\n",
    "\n",
    "data = pd.read_csv(\"./119_emergency_dispatch.csv\", encoding=\"cp949\" )\n",
    "desease = data[data['중증질환'].isin(['심근경색', '복부손상', '뇌경색', '뇌출혈'])].copy()\n",
    "\n",
    "# 데이터 랜덤으로 섞기\n",
    "\n",
    "desease = desease.sample(frac=1).reset_index(drop=True)\n"
   ]
  },
  {
   "cell_type": "markdown",
   "id": "72128961-d182-45c6-b50a-cd023e5b784f",
   "metadata": {},
   "source": [
    "### 1) 학습용, 평가용 데이터 준비하기"
   ]
  },
  {
   "cell_type": "markdown",
   "id": "156e1144-5b0f-468b-a240-e12db8727f53",
   "metadata": {},
   "source": [
    "* 데이터 전처리 함수 가져오기"
   ]
  },
  {
   "cell_type": "code",
   "execution_count": null,
   "id": "0a9c57ad-7d6b-4d45-82ce-e062ff9e8184",
   "metadata": {},
   "outputs": [],
   "source": [
    "# 미션2에서 정의한 preprocessing 전처리 함수 정의 가져와서 실행하기\n",
    "\n",
    "def preprocessing(desease):\n"
   ]
  },
  {
   "cell_type": "code",
   "execution_count": null,
   "id": "7d8963fe-aa01-4c66-a663-48c0895036c9",
   "metadata": {},
   "outputs": [],
   "source": [
    "# target 중증질환 값을 Y에 저장\n",
    "# desease 데이터 프레임을 preprocessing 함수를 활용하여 데이터 전처리하여 필요한 feature만 X에 저장\n",
    "\n",
    "Y =  \n",
    "X ="
   ]
  },
  {
   "cell_type": "code",
   "execution_count": null,
   "id": "4c690f54-b206-43d8-ab19-7228d0150a09",
   "metadata": {},
   "outputs": [],
   "source": [
    "# AI 모델링을 위한 학습/검증 데이터 나누기 : train_test_split\n",
    "# 데이터 분할 비율: 학습데이터 7 : 검증데이터 3\n",
    "# random_state = 2023\n",
    "# 변수명 : train_x, test_x, train_y, test_y\n",
    "\n",
    "from sklearn.model_selection import train_test_split\n",
    "\n"
   ]
  },
  {
   "cell_type": "markdown",
   "id": "6703af05-a75f-407b-9aa1-87f73d49dbd1",
   "metadata": {},
   "source": [
    "### 2) 모델링"
   ]
  },
  {
   "cell_type": "markdown",
   "id": "e0a3a6a9-9a9b-47b5-8457-a918c33ce880",
   "metadata": {},
   "source": [
    " * 활용 모델 : DecisionTreeClassifier, RandomForestClassifier, XGBClassifier, DNN\n",
    " * 성능 평가 : accuracy_score"
   ]
  },
  {
   "cell_type": "code",
   "execution_count": null,
   "id": "479c8b5b-eaff-4ffe-9064-ab6916442edc",
   "metadata": {},
   "outputs": [],
   "source": [
    "## Decision Tree\n",
    "## 1) 불러오기\n",
    "\n",
    "\n",
    "## 2) 선언하기\n",
    "\n",
    "\n",
    "## 3) 학습하기\n",
    "\n",
    "\n",
    "\n",
    "## 4) 예측하기\n",
    "\n",
    "\n",
    "## 5) 평가하기\n",
    "\n"
   ]
  },
  {
   "cell_type": "code",
   "execution_count": null,
   "id": "7d1975bb-868d-4edb-b002-c77516a36bc5",
   "metadata": {},
   "outputs": [],
   "source": [
    "## RandomForest\n",
    "## 1) 불러오기\n",
    "\n",
    "\n",
    "\n",
    "## 2) 선언하기\n",
    "\n",
    "\n",
    "\n",
    "## 3) 학습하기\n",
    "\n",
    "\n",
    "\n",
    "## 4) 예측하기\n",
    "\n",
    "\n",
    "## 5) 평가하기\n"
   ]
  },
  {
   "cell_type": "code",
   "execution_count": null,
   "id": "ce030325-6ca6-4a7f-bb56-e01372cf6ca9",
   "metadata": {},
   "outputs": [],
   "source": [
    "## XGBoost\n",
    "## 1) 불러오기\n",
    "\n",
    "\n",
    "\n",
    "## 2) 선언하기\n",
    "\n",
    "\n",
    "\n",
    "\n",
    "## target값 라벨링하기 {'뇌경색':0, '뇌출혈':1, '복부손상':2, '심근경색':3}\n",
    "\n",
    "\n",
    "## 3) 학습하기\n",
    "\n",
    "\n",
    "\n",
    "## 4) 예측하기\n",
    "\n",
    "\n",
    "## 5) 평가하기\n"
   ]
  },
  {
   "cell_type": "code",
   "execution_count": null,
   "id": "d5d9f020-f736-462a-9060-bb980e4a4190",
   "metadata": {},
   "outputs": [],
   "source": [
    "## DNN\n",
    "## 1) 불러오기\n",
    "\n",
    "\n",
    "\n",
    "# 메모리 정리\n",
    "clear_session()\n",
    "\n",
    "## 2) 선언하기\n",
    "\n",
    "\n",
    "\n",
    "## target값 라벨링하기 {'뇌경색':0, '뇌출혈':1, '복부손상':2, '심근경색':3}\n",
    "\n",
    "\n",
    "\n",
    "## 3) 학습하기\n",
    "\n",
    "\n",
    "\n",
    "## 4) 예측하기\n",
    "\n",
    "\n",
    "## 5) 평가하기, np.argmax(pred_DNN, axis=1)\n"
   ]
  },
  {
   "cell_type": "markdown",
   "id": "f2582b0a-ffd1-4723-b016-22bc9ee2be58",
   "metadata": {},
   "source": [
    "### 3) 최적 모델 선정 및 저장"
   ]
  },
  {
   "cell_type": "code",
   "execution_count": null,
   "id": "bf912617-03c2-49c3-a7a1-930652755830",
   "metadata": {},
   "outputs": [],
   "source": [
    "## 질문) 최적 모델로 선정된 것은 무엇인가?\n",
    "\n"
   ]
  },
  {
   "cell_type": "code",
   "execution_count": null,
   "id": "2c86a1f5-41d5-4488-af59-38037270d5cb",
   "metadata": {},
   "outputs": [],
   "source": [
    "## 모델 저장하기\n",
    "\n",
    "#머신러닝 모델인 경우\n",
    "import joblib\n",
    "\n",
    "\n",
    "#딥러닝 모델인 경우\n"
   ]
  },
  {
   "cell_type": "markdown",
   "id": "cee7bbf1-aae4-4279-ae4d-892bf6eebd4c",
   "metadata": {},
   "source": [
    "### 4) 새로운 출동 이력 데이터에 대한 중증질환 예측하기"
   ]
  },
  {
   "cell_type": "code",
   "execution_count": null,
   "id": "f4d4fcda-662a-44f8-94bb-8667f8bfebd5",
   "metadata": {},
   "outputs": [],
   "source": [
    "# 새로운 출동 이력 데이터 : 딕셔너리 형태\n",
    "new_dispatch = {\n",
    "    \"ID\" : [500001],\n",
    "    \"출동일시\" :['2023-04-18'],\n",
    "    \"이름\" : ['최**'],\n",
    "    \"성별\" : [\"여성\"],\n",
    "    \"나이\" : [80],\n",
    "    \"체온\" : [37],\n",
    "    \"수축기 혈압\" : [145],\n",
    "    \"이완기 혈압\" : [100],\n",
    "    \"호흡 곤란\":[0],\n",
    "    \"간헐성 경련\":[1],\n",
    "    \"설사\":[0],\n",
    "    \"기침\":[0],\n",
    "    \"출혈\":[0],\n",
    "    \"통증\":[1],\n",
    "    \"만지면 아프다\":[0],\n",
    "    \"무감각\":[0],\n",
    "    \"마비\":[1],\n",
    "    \"현기증\":[0],\n",
    "    \"졸도\":[1],\n",
    "    \"말이 어눌해졌다\":[1],\n",
    "    \"시력이 흐려짐\":[1],\n",
    "\n",
    "}\n",
    "\n"
   ]
  },
  {
   "cell_type": "code",
   "execution_count": null,
   "id": "9729913b-84c1-462d-8b49-758998dc2149",
   "metadata": {},
   "outputs": [],
   "source": [
    "# new_dispatch 딕셔너리를 데이터 프레임으로 변환\n",
    "# 변수명 : new_data\n",
    "\n",
    "\n",
    "\n",
    "# new_data를 preprocessing 함수를 이용하여 데이터 전처리하기\n",
    "# 변수명 : new_x\n",
    "\n"
   ]
  },
  {
   "cell_type": "code",
   "execution_count": null,
   "id": "189ed6cd-9586-48f1-8169-b4c967e4e97c",
   "metadata": {},
   "outputs": [],
   "source": [
    "# 모델 불러오기\n",
    "\n",
    "# 머신러닝 모델인 경우\n",
    "\n",
    "model_m = \n",
    "\n",
    "# 딥러닝 모델인 경우\n",
    "\n",
    "model_d = "
   ]
  },
  {
   "cell_type": "code",
   "execution_count": null,
   "id": "eaf51602-4431-4d09-8207-355e15a97ef7",
   "metadata": {},
   "outputs": [],
   "source": [
    "# 중증질환 예측하기\n",
    "\n",
    "# 머신러닝 모델인 경우\n",
    "pred_new_m = \n",
    "print(\"예측값 : \", pred_new_m)\n",
    "\n",
    "# 딥러닝 모델인 경우\n",
    "pred_new_d = \n",
    "print(\"예측값 : \", pred_new_d)\n",
    "\n",
    "\n",
    "# 중증질환 명칭으로 표시하기\n",
    "\n",
    "sym_list = ['뇌경색', '뇌출혈', '복부손상', '심근경색']\n",
    "\n",
    "# 머신러닝 모델인 경우\n",
    "print(\"예측 중증질환명 : \", )\n",
    "# 딥러닝 모델인 경우\n",
    "print(\"예측 중증질환명 : \",)\n",
    "\n"
   ]
  },
  {
   "cell_type": "markdown",
   "id": "be84e2da",
   "metadata": {},
   "source": [
    "### 5) 새로운 환자(출동 이력)에 대한 중증질환 예측 함수 정의하기"
   ]
  },
  {
   "cell_type": "markdown",
   "id": "0b6b2797",
   "metadata": {},
   "source": [
    " * 1. 함수 선언하기\n",
    " * 2. 데이터 준비하기\n",
    " * 3. 중증 질환 예측하기\n",
    " * 4. 중증 질환명으로 반환하기"
   ]
  },
  {
   "cell_type": "code",
   "execution_count": null,
   "id": "907ff8c6-9e90-4512-a9ad-1d516b12c5c8",
   "metadata": {},
   "outputs": [],
   "source": [
    "# 중증질환 예측 함수 정의하기\n",
    "# 함수명 : predict_disease\n",
    "# 매개변수 : new_dispatch (출동 이력 데이터, 딕셔너리 형태)\n",
    "# output : 중증 질환 명칭\n",
    "\n",
    "\n",
    "#########################################\n",
    "# 1. 함수 선언하기                       #\n",
    "#########################################\n",
    "\n",
    "def :\n",
    "    \n",
    "    #########################################\n",
    "    # 2. 데이터 준비하기                     #\n",
    "    #########################################\n",
    "    \n",
    "    # 중증 질환 명칭 및 라벨링 {'뇌경색':0, '뇌출혈':1, '복부손상':2, '심근경색':3}\n",
    "    # 중증 질환 리스트 정의 : 라벨링 순서대로\n",
    "\n",
    "    \n",
    "    # 딕셔너리 형태의 출동 이력 데이터를 데이터 프레임으로 변환\n",
    "    # 변수명 : new_data\n",
    "\n",
    "\n",
    "    # new_data를 preprocessing 함수를 이용하여 데이터 전처리된 new_x 받아오기\n",
    "    # preporcessing 함수 정의 부분이 먼저 실행되어 있어야 함\n",
    " \n",
    "\n",
    "    #########################################\n",
    "    # 3. 중증 질환 예측하기                  #\n",
    "    #########################################\n",
    "      \n",
    "    # 저장된 AI모델 불러오기 \n",
    "    # 모델 변수명 : model_m\n",
    "\n",
    "\n",
    "    # new_x를 기반으로 중증질환 예측하기\n",
    "\n",
    "\n",
    "    #########################################\n",
    "    # 4. 중증 질환명으로 반환하기             #\n",
    "    #########################################\n",
    "\n",
    "    # 예측된 결과를 중증질환 명칭으로 반환하기\n",
    "    \n",
    "    "
   ]
  },
  {
   "cell_type": "code",
   "execution_count": null,
   "id": "63b77824-01b8-45f0-be6e-4bfd8c01bd52",
   "metadata": {},
   "outputs": [],
   "source": [
    "## 확인하기\n",
    "# predict_disease 함수를 이용하여, 출동 이력 데이터로 중증질환 예측하기\n",
    "\n",
    "new_dispatch = {\n",
    "    \"ID\" : [500001],\n",
    "    \"출동일시\" :['2023-04-18'],\n",
    "    \"이름\" : ['최**'],\n",
    "    \"성별\" : [\"여성\"],\n",
    "    \"나이\" : [80],\n",
    "    \"체온\" : [37],\n",
    "    \"수축기 혈압\" : [145],\n",
    "    \"이완기 혈압\" : [100],\n",
    "    \"호흡 곤란\":[0],\n",
    "    \"간헐성 경련\":[1],\n",
    "    \"설사\":[0],\n",
    "    \"기침\":[0],\n",
    "    \"출혈\":[0],\n",
    "    \"통증\":[1],\n",
    "    \"만지면 아프다\":[0],\n",
    "    \"무감각\":[0],\n",
    "    \"마비\":[1],\n",
    "    \"현기증\":[0],\n",
    "    \"졸도\":[1],\n",
    "    \"말이 어눌해졌다\":[1],\n",
    "    \"시력이 흐려짐\":[1],\n",
    "}\n",
    "\n",
    "\n",
    "predict_disease(new_dispatch)"
   ]
  },
  {
   "cell_type": "markdown",
   "id": "ed73a5aa-b2ff-42a3-ac6e-4e9636ba6069",
   "metadata": {},
   "source": [
    "## 미션#3 Clear\n",
    "## 수고하셨습니다!!"
   ]
  }
 ],
 "metadata": {
  "kernelspec": {
   "display_name": "Python 3 (ipykernel)",
   "language": "python",
   "name": "python3"
  },
  "language_info": {
   "codemirror_mode": {
    "name": "ipython",
    "version": 3
   },
   "file_extension": ".py",
   "mimetype": "text/x-python",
   "name": "python",
   "nbconvert_exporter": "python",
   "pygments_lexer": "ipython3",
   "version": "3.11.3"
  },
  "vscode": {
   "interpreter": {
    "hash": "f08154012ddadd8e950e6e9e035c7a7b32c136e7647e9b7c77e02eb723a8bedb"
   }
  }
 },
 "nbformat": 4,
 "nbformat_minor": 5
}
